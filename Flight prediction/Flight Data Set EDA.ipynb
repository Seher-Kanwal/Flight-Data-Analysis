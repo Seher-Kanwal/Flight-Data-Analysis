{
 "cells": [
  {
   "cell_type": "code",
   "execution_count": 1,
   "id": "7f833998",
   "metadata": {},
   "outputs": [],
   "source": [
    "import pandas as pd"
   ]
  },
  {
   "cell_type": "markdown",
   "id": "de7be144",
   "metadata": {},
   "source": [
    "## Train Data set"
   ]
  },
  {
   "cell_type": "code",
   "execution_count": 6,
   "id": "75367012",
   "metadata": {
    "scrolled": false
   },
   "outputs": [
    {
     "data": {
      "text/html": [
       "<div>\n",
       "<style scoped>\n",
       "    .dataframe tbody tr th:only-of-type {\n",
       "        vertical-align: middle;\n",
       "    }\n",
       "\n",
       "    .dataframe tbody tr th {\n",
       "        vertical-align: top;\n",
       "    }\n",
       "\n",
       "    .dataframe thead th {\n",
       "        text-align: right;\n",
       "    }\n",
       "</style>\n",
       "<table border=\"1\" class=\"dataframe\">\n",
       "  <thead>\n",
       "    <tr style=\"text-align: right;\">\n",
       "      <th></th>\n",
       "      <th>Airline</th>\n",
       "      <th>Date_of_Journey</th>\n",
       "      <th>Source</th>\n",
       "      <th>Destination</th>\n",
       "      <th>Route</th>\n",
       "      <th>Dep_Time</th>\n",
       "      <th>Arrival_Time</th>\n",
       "      <th>Duration</th>\n",
       "      <th>Total_Stops</th>\n",
       "      <th>Additional_Info</th>\n",
       "      <th>Price</th>\n",
       "    </tr>\n",
       "  </thead>\n",
       "  <tbody>\n",
       "    <tr>\n",
       "      <th>0</th>\n",
       "      <td>IndiGo</td>\n",
       "      <td>24/03/2019</td>\n",
       "      <td>Banglore</td>\n",
       "      <td>New Delhi</td>\n",
       "      <td>BLR → DEL</td>\n",
       "      <td>22:20</td>\n",
       "      <td>01:10 22 Mar</td>\n",
       "      <td>2h 50m</td>\n",
       "      <td>non-stop</td>\n",
       "      <td>No info</td>\n",
       "      <td>3897</td>\n",
       "    </tr>\n",
       "    <tr>\n",
       "      <th>1</th>\n",
       "      <td>Air India</td>\n",
       "      <td>1/05/2019</td>\n",
       "      <td>Kolkata</td>\n",
       "      <td>Banglore</td>\n",
       "      <td>CCU → IXR → BBI → BLR</td>\n",
       "      <td>05:50</td>\n",
       "      <td>13:15</td>\n",
       "      <td>7h 25m</td>\n",
       "      <td>2 stops</td>\n",
       "      <td>No info</td>\n",
       "      <td>7662</td>\n",
       "    </tr>\n",
       "    <tr>\n",
       "      <th>2</th>\n",
       "      <td>Jet Airways</td>\n",
       "      <td>9/06/2019</td>\n",
       "      <td>Delhi</td>\n",
       "      <td>Cochin</td>\n",
       "      <td>DEL → LKO → BOM → COK</td>\n",
       "      <td>09:25</td>\n",
       "      <td>04:25 10 Jun</td>\n",
       "      <td>19h</td>\n",
       "      <td>2 stops</td>\n",
       "      <td>No info</td>\n",
       "      <td>13882</td>\n",
       "    </tr>\n",
       "    <tr>\n",
       "      <th>3</th>\n",
       "      <td>IndiGo</td>\n",
       "      <td>12/05/2019</td>\n",
       "      <td>Kolkata</td>\n",
       "      <td>Banglore</td>\n",
       "      <td>CCU → NAG → BLR</td>\n",
       "      <td>18:05</td>\n",
       "      <td>23:30</td>\n",
       "      <td>5h 25m</td>\n",
       "      <td>1 stop</td>\n",
       "      <td>No info</td>\n",
       "      <td>6218</td>\n",
       "    </tr>\n",
       "    <tr>\n",
       "      <th>4</th>\n",
       "      <td>IndiGo</td>\n",
       "      <td>01/03/2019</td>\n",
       "      <td>Banglore</td>\n",
       "      <td>New Delhi</td>\n",
       "      <td>BLR → NAG → DEL</td>\n",
       "      <td>16:50</td>\n",
       "      <td>21:35</td>\n",
       "      <td>4h 45m</td>\n",
       "      <td>1 stop</td>\n",
       "      <td>No info</td>\n",
       "      <td>13302</td>\n",
       "    </tr>\n",
       "  </tbody>\n",
       "</table>\n",
       "</div>"
      ],
      "text/plain": [
       "       Airline Date_of_Journey    Source Destination                  Route  \\\n",
       "0       IndiGo      24/03/2019  Banglore   New Delhi              BLR → DEL   \n",
       "1    Air India       1/05/2019   Kolkata    Banglore  CCU → IXR → BBI → BLR   \n",
       "2  Jet Airways       9/06/2019     Delhi      Cochin  DEL → LKO → BOM → COK   \n",
       "3       IndiGo      12/05/2019   Kolkata    Banglore        CCU → NAG → BLR   \n",
       "4       IndiGo      01/03/2019  Banglore   New Delhi        BLR → NAG → DEL   \n",
       "\n",
       "  Dep_Time  Arrival_Time Duration Total_Stops Additional_Info  Price  \n",
       "0    22:20  01:10 22 Mar   2h 50m    non-stop         No info   3897  \n",
       "1    05:50         13:15   7h 25m     2 stops         No info   7662  \n",
       "2    09:25  04:25 10 Jun      19h     2 stops         No info  13882  \n",
       "3    18:05         23:30   5h 25m      1 stop         No info   6218  \n",
       "4    16:50         21:35   4h 45m      1 stop         No info  13302  "
      ]
     },
     "execution_count": 6,
     "metadata": {},
     "output_type": "execute_result"
    }
   ],
   "source": [
    "df = pd.read_excel(\"Data_Train.xlsx\")\n",
    "df.head()"
   ]
  },
  {
   "cell_type": "code",
   "execution_count": 7,
   "id": "0ccf1134",
   "metadata": {},
   "outputs": [
    {
     "data": {
      "text/plain": [
       "(10683, 11)"
      ]
     },
     "execution_count": 7,
     "metadata": {},
     "output_type": "execute_result"
    }
   ],
   "source": [
    "df.shape"
   ]
  },
  {
   "cell_type": "markdown",
   "id": "3802e39e",
   "metadata": {},
   "source": [
    "## Test Data set"
   ]
  },
  {
   "cell_type": "code",
   "execution_count": 3,
   "id": "bce4719e",
   "metadata": {
    "scrolled": true
   },
   "outputs": [
    {
     "data": {
      "text/html": [
       "<div>\n",
       "<style scoped>\n",
       "    .dataframe tbody tr th:only-of-type {\n",
       "        vertical-align: middle;\n",
       "    }\n",
       "\n",
       "    .dataframe tbody tr th {\n",
       "        vertical-align: top;\n",
       "    }\n",
       "\n",
       "    .dataframe thead th {\n",
       "        text-align: right;\n",
       "    }\n",
       "</style>\n",
       "<table border=\"1\" class=\"dataframe\">\n",
       "  <thead>\n",
       "    <tr style=\"text-align: right;\">\n",
       "      <th></th>\n",
       "      <th>Airline</th>\n",
       "      <th>Date_of_Journey</th>\n",
       "      <th>Source</th>\n",
       "      <th>Destination</th>\n",
       "      <th>Route</th>\n",
       "      <th>Dep_Time</th>\n",
       "      <th>Arrival_Time</th>\n",
       "      <th>Duration</th>\n",
       "      <th>Total_Stops</th>\n",
       "      <th>Additional_Info</th>\n",
       "      <th>Price</th>\n",
       "    </tr>\n",
       "  </thead>\n",
       "  <tbody>\n",
       "    <tr>\n",
       "      <th>0</th>\n",
       "      <td>IndiGo</td>\n",
       "      <td>24/03/2019</td>\n",
       "      <td>Banglore</td>\n",
       "      <td>New Delhi</td>\n",
       "      <td>BLR → DEL</td>\n",
       "      <td>22:20</td>\n",
       "      <td>01:10 22 Mar</td>\n",
       "      <td>2h 50m</td>\n",
       "      <td>non-stop</td>\n",
       "      <td>No info</td>\n",
       "      <td>3897</td>\n",
       "    </tr>\n",
       "    <tr>\n",
       "      <th>1</th>\n",
       "      <td>Air India</td>\n",
       "      <td>1/05/2019</td>\n",
       "      <td>Kolkata</td>\n",
       "      <td>Banglore</td>\n",
       "      <td>CCU → IXR → BBI → BLR</td>\n",
       "      <td>05:50</td>\n",
       "      <td>13:15</td>\n",
       "      <td>7h 25m</td>\n",
       "      <td>2 stops</td>\n",
       "      <td>No info</td>\n",
       "      <td>7662</td>\n",
       "    </tr>\n",
       "    <tr>\n",
       "      <th>2</th>\n",
       "      <td>Jet Airways</td>\n",
       "      <td>9/06/2019</td>\n",
       "      <td>Delhi</td>\n",
       "      <td>Cochin</td>\n",
       "      <td>DEL → LKO → BOM → COK</td>\n",
       "      <td>09:25</td>\n",
       "      <td>04:25 10 Jun</td>\n",
       "      <td>19h</td>\n",
       "      <td>2 stops</td>\n",
       "      <td>No info</td>\n",
       "      <td>13882</td>\n",
       "    </tr>\n",
       "    <tr>\n",
       "      <th>3</th>\n",
       "      <td>IndiGo</td>\n",
       "      <td>12/05/2019</td>\n",
       "      <td>Kolkata</td>\n",
       "      <td>Banglore</td>\n",
       "      <td>CCU → NAG → BLR</td>\n",
       "      <td>18:05</td>\n",
       "      <td>23:30</td>\n",
       "      <td>5h 25m</td>\n",
       "      <td>1 stop</td>\n",
       "      <td>No info</td>\n",
       "      <td>6218</td>\n",
       "    </tr>\n",
       "    <tr>\n",
       "      <th>4</th>\n",
       "      <td>IndiGo</td>\n",
       "      <td>01/03/2019</td>\n",
       "      <td>Banglore</td>\n",
       "      <td>New Delhi</td>\n",
       "      <td>BLR → NAG → DEL</td>\n",
       "      <td>16:50</td>\n",
       "      <td>21:35</td>\n",
       "      <td>4h 45m</td>\n",
       "      <td>1 stop</td>\n",
       "      <td>No info</td>\n",
       "      <td>13302</td>\n",
       "    </tr>\n",
       "  </tbody>\n",
       "</table>\n",
       "</div>"
      ],
      "text/plain": [
       "       Airline Date_of_Journey    Source Destination                  Route  \\\n",
       "0       IndiGo      24/03/2019  Banglore   New Delhi              BLR → DEL   \n",
       "1    Air India       1/05/2019   Kolkata    Banglore  CCU → IXR → BBI → BLR   \n",
       "2  Jet Airways       9/06/2019     Delhi      Cochin  DEL → LKO → BOM → COK   \n",
       "3       IndiGo      12/05/2019   Kolkata    Banglore        CCU → NAG → BLR   \n",
       "4       IndiGo      01/03/2019  Banglore   New Delhi        BLR → NAG → DEL   \n",
       "\n",
       "  Dep_Time  Arrival_Time Duration Total_Stops Additional_Info  Price  \n",
       "0    22:20  01:10 22 Mar   2h 50m    non-stop         No info   3897  \n",
       "1    05:50         13:15   7h 25m     2 stops         No info   7662  \n",
       "2    09:25  04:25 10 Jun      19h     2 stops         No info  13882  \n",
       "3    18:05         23:30   5h 25m      1 stop         No info   6218  \n",
       "4    16:50         21:35   4h 45m      1 stop         No info  13302  "
      ]
     },
     "execution_count": 3,
     "metadata": {},
     "output_type": "execute_result"
    }
   ],
   "source": [
    "df1 = pd.read_excel(\"Test_set.xlsx\")\n",
    "df.head()"
   ]
  },
  {
   "cell_type": "code",
   "execution_count": 8,
   "id": "635f44b4",
   "metadata": {},
   "outputs": [
    {
     "data": {
      "text/plain": [
       "(2671, 10)"
      ]
     },
     "execution_count": 8,
     "metadata": {},
     "output_type": "execute_result"
    }
   ],
   "source": [
    "df1.shape"
   ]
  },
  {
   "cell_type": "markdown",
   "id": "0bc69602",
   "metadata": {},
   "source": [
    "### Let's merge them "
   ]
  },
  {
   "cell_type": "code",
   "execution_count": 10,
   "id": "b6000ba5",
   "metadata": {},
   "outputs": [
    {
     "name": "stderr",
     "output_type": "stream",
     "text": [
      "C:\\Users\\seher\\AppData\\Local\\Temp\\ipykernel_812\\3484042514.py:1: FutureWarning: The frame.append method is deprecated and will be removed from pandas in a future version. Use pandas.concat instead.\n",
      "  df = df.append(df1)\n"
     ]
    },
    {
     "data": {
      "text/plain": [
       "(13354, 11)"
      ]
     },
     "execution_count": 10,
     "metadata": {},
     "output_type": "execute_result"
    }
   ],
   "source": [
    "df = df.append(df1)\n",
    "df.shape"
   ]
  },
  {
   "cell_type": "markdown",
   "id": "8fe40df6",
   "metadata": {},
   "source": [
    "### Data set info "
   ]
  },
  {
   "cell_type": "code",
   "execution_count": 12,
   "id": "3236d99a",
   "metadata": {},
   "outputs": [
    {
     "name": "stdout",
     "output_type": "stream",
     "text": [
      "<class 'pandas.core.frame.DataFrame'>\n",
      "Int64Index: 13354 entries, 0 to 2670\n",
      "Data columns (total 11 columns):\n",
      " #   Column           Non-Null Count  Dtype  \n",
      "---  ------           --------------  -----  \n",
      " 0   Airline          13354 non-null  object \n",
      " 1   Date_of_Journey  13354 non-null  object \n",
      " 2   Source           13354 non-null  object \n",
      " 3   Destination      13354 non-null  object \n",
      " 4   Route            13353 non-null  object \n",
      " 5   Dep_Time         13354 non-null  object \n",
      " 6   Arrival_Time     13354 non-null  object \n",
      " 7   Duration         13354 non-null  object \n",
      " 8   Total_Stops      13353 non-null  object \n",
      " 9   Additional_Info  13354 non-null  object \n",
      " 10  Price            10683 non-null  float64\n",
      "dtypes: float64(1), object(10)\n",
      "memory usage: 1.2+ MB\n"
     ]
    }
   ],
   "source": [
    "df.info()"
   ]
  },
  {
   "cell_type": "markdown",
   "id": "983169e5",
   "metadata": {},
   "source": [
    "## We have only 1 float column and all others are objects \n",
    "we need to convert them into suitable form"
   ]
  },
  {
   "cell_type": "markdown",
   "id": "ed790107",
   "metadata": {},
   "source": [
    "## Check for Null values"
   ]
  },
  {
   "cell_type": "code",
   "execution_count": 13,
   "id": "85973983",
   "metadata": {},
   "outputs": [
    {
     "data": {
      "text/plain": [
       "Airline               0\n",
       "Date_of_Journey       0\n",
       "Source                0\n",
       "Destination           0\n",
       "Route                 1\n",
       "Dep_Time              0\n",
       "Arrival_Time          0\n",
       "Duration              0\n",
       "Total_Stops           1\n",
       "Additional_Info       0\n",
       "Price              2671\n",
       "dtype: int64"
      ]
     },
     "execution_count": 13,
     "metadata": {},
     "output_type": "execute_result"
    }
   ],
   "source": [
    "df.isnull().sum()"
   ]
  },
  {
   "cell_type": "markdown",
   "id": "1e84e834",
   "metadata": {},
   "source": [
    "## here we got only 1 nan values in 2 columns and 2671 null bcz of test data set "
   ]
  },
  {
   "cell_type": "markdown",
   "id": "53077e83",
   "metadata": {},
   "source": [
    "### let's have a look towards each columns "
   ]
  },
  {
   "cell_type": "code",
   "execution_count": 16,
   "id": "a3b9e2b9",
   "metadata": {},
   "outputs": [
    {
     "data": {
      "text/plain": [
       "array(['IndiGo', 'Air India', 'Jet Airways', 'SpiceJet',\n",
       "       'Multiple carriers', 'GoAir', 'Vistara', 'Air Asia',\n",
       "       'Vistara Premium economy', 'Jet Airways Business',\n",
       "       'Multiple carriers Premium economy', 'Trujet'], dtype=object)"
      ]
     },
     "execution_count": 16,
     "metadata": {},
     "output_type": "execute_result"
    }
   ],
   "source": [
    "df['Airline'].unique()"
   ]
  },
  {
   "cell_type": "code",
   "execution_count": 17,
   "id": "91ffd8c3",
   "metadata": {},
   "outputs": [
    {
     "data": {
      "text/plain": [
       "12"
      ]
     },
     "execution_count": 17,
     "metadata": {},
     "output_type": "execute_result"
    }
   ],
   "source": [
    "len(df['Airline'].unique())"
   ]
  },
  {
   "cell_type": "markdown",
   "id": "278de9bb",
   "metadata": {},
   "source": [
    "### we have 12 different categories, here we can use one hot encoding or label encoding as the airlines are not related to each other so the better approach is to use one hot encoding "
   ]
  },
  {
   "cell_type": "code",
   "execution_count": 23,
   "id": "1cc58aa6",
   "metadata": {},
   "outputs": [
    {
     "data": {
      "text/html": [
       "<div>\n",
       "<style scoped>\n",
       "    .dataframe tbody tr th:only-of-type {\n",
       "        vertical-align: middle;\n",
       "    }\n",
       "\n",
       "    .dataframe tbody tr th {\n",
       "        vertical-align: top;\n",
       "    }\n",
       "\n",
       "    .dataframe thead th {\n",
       "        text-align: right;\n",
       "    }\n",
       "</style>\n",
       "<table border=\"1\" class=\"dataframe\">\n",
       "  <thead>\n",
       "    <tr style=\"text-align: right;\">\n",
       "      <th></th>\n",
       "      <th>Air India</th>\n",
       "      <th>GoAir</th>\n",
       "      <th>IndiGo</th>\n",
       "      <th>Jet Airways</th>\n",
       "      <th>Jet Airways Business</th>\n",
       "      <th>Multiple carriers</th>\n",
       "      <th>Multiple carriers Premium economy</th>\n",
       "      <th>SpiceJet</th>\n",
       "      <th>Trujet</th>\n",
       "      <th>Vistara</th>\n",
       "      <th>Vistara Premium economy</th>\n",
       "    </tr>\n",
       "  </thead>\n",
       "  <tbody>\n",
       "    <tr>\n",
       "      <th>0</th>\n",
       "      <td>0</td>\n",
       "      <td>0</td>\n",
       "      <td>1</td>\n",
       "      <td>0</td>\n",
       "      <td>0</td>\n",
       "      <td>0</td>\n",
       "      <td>0</td>\n",
       "      <td>0</td>\n",
       "      <td>0</td>\n",
       "      <td>0</td>\n",
       "      <td>0</td>\n",
       "    </tr>\n",
       "    <tr>\n",
       "      <th>1</th>\n",
       "      <td>1</td>\n",
       "      <td>0</td>\n",
       "      <td>0</td>\n",
       "      <td>0</td>\n",
       "      <td>0</td>\n",
       "      <td>0</td>\n",
       "      <td>0</td>\n",
       "      <td>0</td>\n",
       "      <td>0</td>\n",
       "      <td>0</td>\n",
       "      <td>0</td>\n",
       "    </tr>\n",
       "    <tr>\n",
       "      <th>2</th>\n",
       "      <td>0</td>\n",
       "      <td>0</td>\n",
       "      <td>0</td>\n",
       "      <td>1</td>\n",
       "      <td>0</td>\n",
       "      <td>0</td>\n",
       "      <td>0</td>\n",
       "      <td>0</td>\n",
       "      <td>0</td>\n",
       "      <td>0</td>\n",
       "      <td>0</td>\n",
       "    </tr>\n",
       "    <tr>\n",
       "      <th>3</th>\n",
       "      <td>0</td>\n",
       "      <td>0</td>\n",
       "      <td>1</td>\n",
       "      <td>0</td>\n",
       "      <td>0</td>\n",
       "      <td>0</td>\n",
       "      <td>0</td>\n",
       "      <td>0</td>\n",
       "      <td>0</td>\n",
       "      <td>0</td>\n",
       "      <td>0</td>\n",
       "    </tr>\n",
       "    <tr>\n",
       "      <th>4</th>\n",
       "      <td>0</td>\n",
       "      <td>0</td>\n",
       "      <td>1</td>\n",
       "      <td>0</td>\n",
       "      <td>0</td>\n",
       "      <td>0</td>\n",
       "      <td>0</td>\n",
       "      <td>0</td>\n",
       "      <td>0</td>\n",
       "      <td>0</td>\n",
       "      <td>0</td>\n",
       "    </tr>\n",
       "    <tr>\n",
       "      <th>5</th>\n",
       "      <td>0</td>\n",
       "      <td>0</td>\n",
       "      <td>0</td>\n",
       "      <td>0</td>\n",
       "      <td>0</td>\n",
       "      <td>0</td>\n",
       "      <td>0</td>\n",
       "      <td>1</td>\n",
       "      <td>0</td>\n",
       "      <td>0</td>\n",
       "      <td>0</td>\n",
       "    </tr>\n",
       "  </tbody>\n",
       "</table>\n",
       "</div>"
      ],
      "text/plain": [
       "   Air India  GoAir  IndiGo  Jet Airways  Jet Airways Business  \\\n",
       "0          0      0       1            0                     0   \n",
       "1          1      0       0            0                     0   \n",
       "2          0      0       0            1                     0   \n",
       "3          0      0       1            0                     0   \n",
       "4          0      0       1            0                     0   \n",
       "5          0      0       0            0                     0   \n",
       "\n",
       "   Multiple carriers  Multiple carriers Premium economy  SpiceJet  Trujet  \\\n",
       "0                  0                                  0         0       0   \n",
       "1                  0                                  0         0       0   \n",
       "2                  0                                  0         0       0   \n",
       "3                  0                                  0         0       0   \n",
       "4                  0                                  0         0       0   \n",
       "5                  0                                  0         1       0   \n",
       "\n",
       "   Vistara  Vistara Premium economy  \n",
       "0        0                        0  \n",
       "1        0                        0  \n",
       "2        0                        0  \n",
       "3        0                        0  \n",
       "4        0                        0  \n",
       "5        0                        0  "
      ]
     },
     "execution_count": 23,
     "metadata": {},
     "output_type": "execute_result"
    }
   ],
   "source": [
    "dummies = pd.get_dummies(df['Airline'], drop_first = True)\n",
    "dummies.head(6)"
   ]
  },
  {
   "cell_type": "code",
   "execution_count": 20,
   "id": "9945bf10",
   "metadata": {},
   "outputs": [
    {
     "data": {
      "text/plain": [
       "(13354, 11)"
      ]
     },
     "execution_count": 20,
     "metadata": {},
     "output_type": "execute_result"
    }
   ],
   "source": [
    "dummies.shape"
   ]
  },
  {
   "cell_type": "markdown",
   "id": "ccde9eb1",
   "metadata": {},
   "source": [
    "## Let's Combine them with our df"
   ]
  },
  {
   "cell_type": "code",
   "execution_count": 24,
   "id": "bfe4b27c",
   "metadata": {},
   "outputs": [],
   "source": [
    "df = pd.concat([df,dummies], axis = 1)"
   ]
  },
  {
   "cell_type": "code",
   "execution_count": 25,
   "id": "fd9e8dce",
   "metadata": {},
   "outputs": [
    {
     "data": {
      "text/html": [
       "<div>\n",
       "<style scoped>\n",
       "    .dataframe tbody tr th:only-of-type {\n",
       "        vertical-align: middle;\n",
       "    }\n",
       "\n",
       "    .dataframe tbody tr th {\n",
       "        vertical-align: top;\n",
       "    }\n",
       "\n",
       "    .dataframe thead th {\n",
       "        text-align: right;\n",
       "    }\n",
       "</style>\n",
       "<table border=\"1\" class=\"dataframe\">\n",
       "  <thead>\n",
       "    <tr style=\"text-align: right;\">\n",
       "      <th></th>\n",
       "      <th>Airline</th>\n",
       "      <th>Date_of_Journey</th>\n",
       "      <th>Source</th>\n",
       "      <th>Destination</th>\n",
       "      <th>Route</th>\n",
       "      <th>Dep_Time</th>\n",
       "      <th>Arrival_Time</th>\n",
       "      <th>Duration</th>\n",
       "      <th>Total_Stops</th>\n",
       "      <th>Additional_Info</th>\n",
       "      <th>...</th>\n",
       "      <th>GoAir</th>\n",
       "      <th>IndiGo</th>\n",
       "      <th>Jet Airways</th>\n",
       "      <th>Jet Airways Business</th>\n",
       "      <th>Multiple carriers</th>\n",
       "      <th>Multiple carriers Premium economy</th>\n",
       "      <th>SpiceJet</th>\n",
       "      <th>Trujet</th>\n",
       "      <th>Vistara</th>\n",
       "      <th>Vistara Premium economy</th>\n",
       "    </tr>\n",
       "  </thead>\n",
       "  <tbody>\n",
       "    <tr>\n",
       "      <th>0</th>\n",
       "      <td>IndiGo</td>\n",
       "      <td>24/03/2019</td>\n",
       "      <td>Banglore</td>\n",
       "      <td>New Delhi</td>\n",
       "      <td>BLR → DEL</td>\n",
       "      <td>22:20</td>\n",
       "      <td>01:10 22 Mar</td>\n",
       "      <td>2h 50m</td>\n",
       "      <td>non-stop</td>\n",
       "      <td>No info</td>\n",
       "      <td>...</td>\n",
       "      <td>0</td>\n",
       "      <td>1</td>\n",
       "      <td>0</td>\n",
       "      <td>0</td>\n",
       "      <td>0</td>\n",
       "      <td>0</td>\n",
       "      <td>0</td>\n",
       "      <td>0</td>\n",
       "      <td>0</td>\n",
       "      <td>0</td>\n",
       "    </tr>\n",
       "    <tr>\n",
       "      <th>1</th>\n",
       "      <td>Air India</td>\n",
       "      <td>1/05/2019</td>\n",
       "      <td>Kolkata</td>\n",
       "      <td>Banglore</td>\n",
       "      <td>CCU → IXR → BBI → BLR</td>\n",
       "      <td>05:50</td>\n",
       "      <td>13:15</td>\n",
       "      <td>7h 25m</td>\n",
       "      <td>2 stops</td>\n",
       "      <td>No info</td>\n",
       "      <td>...</td>\n",
       "      <td>0</td>\n",
       "      <td>0</td>\n",
       "      <td>0</td>\n",
       "      <td>0</td>\n",
       "      <td>0</td>\n",
       "      <td>0</td>\n",
       "      <td>0</td>\n",
       "      <td>0</td>\n",
       "      <td>0</td>\n",
       "      <td>0</td>\n",
       "    </tr>\n",
       "    <tr>\n",
       "      <th>2</th>\n",
       "      <td>Jet Airways</td>\n",
       "      <td>9/06/2019</td>\n",
       "      <td>Delhi</td>\n",
       "      <td>Cochin</td>\n",
       "      <td>DEL → LKO → BOM → COK</td>\n",
       "      <td>09:25</td>\n",
       "      <td>04:25 10 Jun</td>\n",
       "      <td>19h</td>\n",
       "      <td>2 stops</td>\n",
       "      <td>No info</td>\n",
       "      <td>...</td>\n",
       "      <td>0</td>\n",
       "      <td>0</td>\n",
       "      <td>1</td>\n",
       "      <td>0</td>\n",
       "      <td>0</td>\n",
       "      <td>0</td>\n",
       "      <td>0</td>\n",
       "      <td>0</td>\n",
       "      <td>0</td>\n",
       "      <td>0</td>\n",
       "    </tr>\n",
       "    <tr>\n",
       "      <th>3</th>\n",
       "      <td>IndiGo</td>\n",
       "      <td>12/05/2019</td>\n",
       "      <td>Kolkata</td>\n",
       "      <td>Banglore</td>\n",
       "      <td>CCU → NAG → BLR</td>\n",
       "      <td>18:05</td>\n",
       "      <td>23:30</td>\n",
       "      <td>5h 25m</td>\n",
       "      <td>1 stop</td>\n",
       "      <td>No info</td>\n",
       "      <td>...</td>\n",
       "      <td>0</td>\n",
       "      <td>1</td>\n",
       "      <td>0</td>\n",
       "      <td>0</td>\n",
       "      <td>0</td>\n",
       "      <td>0</td>\n",
       "      <td>0</td>\n",
       "      <td>0</td>\n",
       "      <td>0</td>\n",
       "      <td>0</td>\n",
       "    </tr>\n",
       "  </tbody>\n",
       "</table>\n",
       "<p>4 rows × 22 columns</p>\n",
       "</div>"
      ],
      "text/plain": [
       "       Airline Date_of_Journey    Source Destination                  Route  \\\n",
       "0       IndiGo      24/03/2019  Banglore   New Delhi              BLR → DEL   \n",
       "1    Air India       1/05/2019   Kolkata    Banglore  CCU → IXR → BBI → BLR   \n",
       "2  Jet Airways       9/06/2019     Delhi      Cochin  DEL → LKO → BOM → COK   \n",
       "3       IndiGo      12/05/2019   Kolkata    Banglore        CCU → NAG → BLR   \n",
       "\n",
       "  Dep_Time  Arrival_Time Duration Total_Stops Additional_Info  ...  GoAir  \\\n",
       "0    22:20  01:10 22 Mar   2h 50m    non-stop         No info  ...      0   \n",
       "1    05:50         13:15   7h 25m     2 stops         No info  ...      0   \n",
       "2    09:25  04:25 10 Jun      19h     2 stops         No info  ...      0   \n",
       "3    18:05         23:30   5h 25m      1 stop         No info  ...      0   \n",
       "\n",
       "   IndiGo  Jet Airways  Jet Airways Business  Multiple carriers  \\\n",
       "0       1            0                     0                  0   \n",
       "1       0            0                     0                  0   \n",
       "2       0            1                     0                  0   \n",
       "3       1            0                     0                  0   \n",
       "\n",
       "   Multiple carriers Premium economy  SpiceJet  Trujet  Vistara  \\\n",
       "0                                  0         0       0        0   \n",
       "1                                  0         0       0        0   \n",
       "2                                  0         0       0        0   \n",
       "3                                  0         0       0        0   \n",
       "\n",
       "   Vistara Premium economy  \n",
       "0                        0  \n",
       "1                        0  \n",
       "2                        0  \n",
       "3                        0  \n",
       "\n",
       "[4 rows x 22 columns]"
      ]
     },
     "execution_count": 25,
     "metadata": {},
     "output_type": "execute_result"
    }
   ],
   "source": [
    "df.head(4)"
   ]
  },
  {
   "cell_type": "code",
   "execution_count": 26,
   "id": "854079f1",
   "metadata": {},
   "outputs": [
    {
     "name": "stdout",
     "output_type": "stream",
     "text": [
      "<class 'pandas.core.frame.DataFrame'>\n",
      "Int64Index: 13354 entries, 0 to 2670\n",
      "Data columns (total 22 columns):\n",
      " #   Column                             Non-Null Count  Dtype  \n",
      "---  ------                             --------------  -----  \n",
      " 0   Airline                            13354 non-null  object \n",
      " 1   Date_of_Journey                    13354 non-null  object \n",
      " 2   Source                             13354 non-null  object \n",
      " 3   Destination                        13354 non-null  object \n",
      " 4   Route                              13353 non-null  object \n",
      " 5   Dep_Time                           13354 non-null  object \n",
      " 6   Arrival_Time                       13354 non-null  object \n",
      " 7   Duration                           13354 non-null  object \n",
      " 8   Total_Stops                        13353 non-null  object \n",
      " 9   Additional_Info                    13354 non-null  object \n",
      " 10  Price                              10683 non-null  float64\n",
      " 11  Air India                          13354 non-null  uint8  \n",
      " 12  GoAir                              13354 non-null  uint8  \n",
      " 13  IndiGo                             13354 non-null  uint8  \n",
      " 14  Jet Airways                        13354 non-null  uint8  \n",
      " 15  Jet Airways Business               13354 non-null  uint8  \n",
      " 16  Multiple carriers                  13354 non-null  uint8  \n",
      " 17  Multiple carriers Premium economy  13354 non-null  uint8  \n",
      " 18  SpiceJet                           13354 non-null  uint8  \n",
      " 19  Trujet                             13354 non-null  uint8  \n",
      " 20  Vistara                            13354 non-null  uint8  \n",
      " 21  Vistara Premium economy            13354 non-null  uint8  \n",
      "dtypes: float64(1), object(10), uint8(11)\n",
      "memory usage: 1.4+ MB\n"
     ]
    }
   ],
   "source": [
    "df.info()"
   ]
  },
  {
   "cell_type": "markdown",
   "id": "354bc07a",
   "metadata": {},
   "source": [
    "### Drop Airline Column now"
   ]
  },
  {
   "cell_type": "code",
   "execution_count": 29,
   "id": "9cbc0365",
   "metadata": {},
   "outputs": [],
   "source": [
    "df.drop('Airline', axis = 1, inplace = True)"
   ]
  },
  {
   "cell_type": "markdown",
   "id": "57f22461",
   "metadata": {},
   "source": [
    "## Move to the second column "
   ]
  },
  {
   "cell_type": "code",
   "execution_count": 30,
   "id": "c2c813a1",
   "metadata": {},
   "outputs": [
    {
     "data": {
      "text/plain": [
       "0       24/03/2019\n",
       "1        1/05/2019\n",
       "2        9/06/2019\n",
       "3       12/05/2019\n",
       "4       01/03/2019\n",
       "           ...    \n",
       "2666     6/06/2019\n",
       "2667    27/03/2019\n",
       "2668     6/03/2019\n",
       "2669     6/03/2019\n",
       "2670    15/06/2019\n",
       "Name: Date_of_Journey, Length: 13354, dtype: object"
      ]
     },
     "execution_count": 30,
     "metadata": {},
     "output_type": "execute_result"
    }
   ],
   "source": [
    "df['Date_of_Journey']"
   ]
  },
  {
   "cell_type": "markdown",
   "id": "9e0b41ce",
   "metadata": {},
   "source": [
    "## Let's bring it into suitable formate and seperate them all in month, year and date columns"
   ]
  },
  {
   "cell_type": "code",
   "execution_count": 35,
   "id": "7e404043",
   "metadata": {},
   "outputs": [
    {
     "data": {
      "text/plain": [
       "0       24\n",
       "1        1\n",
       "2        9\n",
       "3       12\n",
       "4       01\n",
       "        ..\n",
       "2666     6\n",
       "2667    27\n",
       "2668     6\n",
       "2669     6\n",
       "2670    15\n",
       "Name: Date_of_Journey, Length: 13354, dtype: object"
      ]
     },
     "execution_count": 35,
     "metadata": {},
     "output_type": "execute_result"
    }
   ],
   "source": [
    "df['Date_of_Journey'].str.split('/').str[0]"
   ]
  },
  {
   "cell_type": "code",
   "execution_count": 36,
   "id": "14427af3",
   "metadata": {},
   "outputs": [],
   "source": [
    "df['Date'] = df['Date_of_Journey'].str.split('/').str[0]\n",
    "df['Month'] = df['Date_of_Journey'].str.split('/').str[1]\n",
    "df['Year'] = df['Date_of_Journey'].str.split('/').str[2]"
   ]
  },
  {
   "cell_type": "code",
   "execution_count": 39,
   "id": "5ab08c94",
   "metadata": {},
   "outputs": [
    {
     "data": {
      "text/html": [
       "<div>\n",
       "<style scoped>\n",
       "    .dataframe tbody tr th:only-of-type {\n",
       "        vertical-align: middle;\n",
       "    }\n",
       "\n",
       "    .dataframe tbody tr th {\n",
       "        vertical-align: top;\n",
       "    }\n",
       "\n",
       "    .dataframe thead th {\n",
       "        text-align: right;\n",
       "    }\n",
       "</style>\n",
       "<table border=\"1\" class=\"dataframe\">\n",
       "  <thead>\n",
       "    <tr style=\"text-align: right;\">\n",
       "      <th></th>\n",
       "      <th>Date_of_Journey</th>\n",
       "      <th>Source</th>\n",
       "      <th>Destination</th>\n",
       "      <th>Route</th>\n",
       "      <th>Dep_Time</th>\n",
       "      <th>Arrival_Time</th>\n",
       "      <th>Duration</th>\n",
       "      <th>Total_Stops</th>\n",
       "      <th>Additional_Info</th>\n",
       "      <th>Price</th>\n",
       "      <th>...</th>\n",
       "      <th>Jet Airways Business</th>\n",
       "      <th>Multiple carriers</th>\n",
       "      <th>Multiple carriers Premium economy</th>\n",
       "      <th>SpiceJet</th>\n",
       "      <th>Trujet</th>\n",
       "      <th>Vistara</th>\n",
       "      <th>Vistara Premium economy</th>\n",
       "      <th>Date</th>\n",
       "      <th>Month</th>\n",
       "      <th>Year</th>\n",
       "    </tr>\n",
       "  </thead>\n",
       "  <tbody>\n",
       "    <tr>\n",
       "      <th>0</th>\n",
       "      <td>24/03/2019</td>\n",
       "      <td>Banglore</td>\n",
       "      <td>New Delhi</td>\n",
       "      <td>BLR → DEL</td>\n",
       "      <td>22:20</td>\n",
       "      <td>01:10 22 Mar</td>\n",
       "      <td>2h 50m</td>\n",
       "      <td>non-stop</td>\n",
       "      <td>No info</td>\n",
       "      <td>3897.0</td>\n",
       "      <td>...</td>\n",
       "      <td>0</td>\n",
       "      <td>0</td>\n",
       "      <td>0</td>\n",
       "      <td>0</td>\n",
       "      <td>0</td>\n",
       "      <td>0</td>\n",
       "      <td>0</td>\n",
       "      <td>24</td>\n",
       "      <td>03</td>\n",
       "      <td>2019</td>\n",
       "    </tr>\n",
       "  </tbody>\n",
       "</table>\n",
       "<p>1 rows × 24 columns</p>\n",
       "</div>"
      ],
      "text/plain": [
       "  Date_of_Journey    Source Destination      Route Dep_Time  Arrival_Time  \\\n",
       "0      24/03/2019  Banglore   New Delhi  BLR → DEL    22:20  01:10 22 Mar   \n",
       "\n",
       "  Duration Total_Stops Additional_Info   Price  ...  Jet Airways Business  \\\n",
       "0   2h 50m    non-stop         No info  3897.0  ...                     0   \n",
       "\n",
       "   Multiple carriers  Multiple carriers Premium economy  SpiceJet  Trujet  \\\n",
       "0                  0                                  0         0       0   \n",
       "\n",
       "   Vistara  Vistara Premium economy  Date  Month  Year  \n",
       "0        0                        0    24     03  2019  \n",
       "\n",
       "[1 rows x 24 columns]"
      ]
     },
     "execution_count": 39,
     "metadata": {},
     "output_type": "execute_result"
    }
   ],
   "source": [
    "df.head(1)"
   ]
  },
  {
   "cell_type": "code",
   "execution_count": 40,
   "id": "60004fe6",
   "metadata": {},
   "outputs": [
    {
     "name": "stdout",
     "output_type": "stream",
     "text": [
      "<class 'pandas.core.frame.DataFrame'>\n",
      "Int64Index: 13354 entries, 0 to 2670\n",
      "Data columns (total 24 columns):\n",
      " #   Column                             Non-Null Count  Dtype  \n",
      "---  ------                             --------------  -----  \n",
      " 0   Date_of_Journey                    13354 non-null  object \n",
      " 1   Source                             13354 non-null  object \n",
      " 2   Destination                        13354 non-null  object \n",
      " 3   Route                              13353 non-null  object \n",
      " 4   Dep_Time                           13354 non-null  object \n",
      " 5   Arrival_Time                       13354 non-null  object \n",
      " 6   Duration                           13354 non-null  object \n",
      " 7   Total_Stops                        13353 non-null  object \n",
      " 8   Additional_Info                    13354 non-null  object \n",
      " 9   Price                              10683 non-null  float64\n",
      " 10  Air India                          13354 non-null  uint8  \n",
      " 11  GoAir                              13354 non-null  uint8  \n",
      " 12  IndiGo                             13354 non-null  uint8  \n",
      " 13  Jet Airways                        13354 non-null  uint8  \n",
      " 14  Jet Airways Business               13354 non-null  uint8  \n",
      " 15  Multiple carriers                  13354 non-null  uint8  \n",
      " 16  Multiple carriers Premium economy  13354 non-null  uint8  \n",
      " 17  SpiceJet                           13354 non-null  uint8  \n",
      " 18  Trujet                             13354 non-null  uint8  \n",
      " 19  Vistara                            13354 non-null  uint8  \n",
      " 20  Vistara Premium economy            13354 non-null  uint8  \n",
      " 21  Date                               13354 non-null  object \n",
      " 22  Month                              13354 non-null  object \n",
      " 23  Year                               13354 non-null  object \n",
      "dtypes: float64(1), object(12), uint8(11)\n",
      "memory usage: 2.1+ MB\n"
     ]
    }
   ],
   "source": [
    "df.info()"
   ]
  },
  {
   "cell_type": "markdown",
   "id": "4c038e37",
   "metadata": {},
   "source": [
    "### Change the type of newly created df columns from object to int "
   ]
  },
  {
   "cell_type": "code",
   "execution_count": 44,
   "id": "c40c3520",
   "metadata": {},
   "outputs": [],
   "source": [
    "df['Date'] = df['Date'].astype('int')\n",
    "df['Month'] = df['Month'].astype('int')\n",
    "df['Year'] = df['Year'].astype('int')"
   ]
  },
  {
   "cell_type": "code",
   "execution_count": 45,
   "id": "8f02815d",
   "metadata": {},
   "outputs": [
    {
     "name": "stdout",
     "output_type": "stream",
     "text": [
      "<class 'pandas.core.frame.DataFrame'>\n",
      "Int64Index: 13354 entries, 0 to 2670\n",
      "Data columns (total 24 columns):\n",
      " #   Column                             Non-Null Count  Dtype  \n",
      "---  ------                             --------------  -----  \n",
      " 0   Date_of_Journey                    13354 non-null  object \n",
      " 1   Source                             13354 non-null  object \n",
      " 2   Destination                        13354 non-null  object \n",
      " 3   Route                              13353 non-null  object \n",
      " 4   Dep_Time                           13354 non-null  object \n",
      " 5   Arrival_Time                       13354 non-null  object \n",
      " 6   Duration                           13354 non-null  object \n",
      " 7   Total_Stops                        13353 non-null  object \n",
      " 8   Additional_Info                    13354 non-null  object \n",
      " 9   Price                              10683 non-null  float64\n",
      " 10  Air India                          13354 non-null  uint8  \n",
      " 11  GoAir                              13354 non-null  uint8  \n",
      " 12  IndiGo                             13354 non-null  uint8  \n",
      " 13  Jet Airways                        13354 non-null  uint8  \n",
      " 14  Jet Airways Business               13354 non-null  uint8  \n",
      " 15  Multiple carriers                  13354 non-null  uint8  \n",
      " 16  Multiple carriers Premium economy  13354 non-null  uint8  \n",
      " 17  SpiceJet                           13354 non-null  uint8  \n",
      " 18  Trujet                             13354 non-null  uint8  \n",
      " 19  Vistara                            13354 non-null  uint8  \n",
      " 20  Vistara Premium economy            13354 non-null  uint8  \n",
      " 21  Date                               13354 non-null  int32  \n",
      " 22  Month                              13354 non-null  int32  \n",
      " 23  Year                               13354 non-null  int32  \n",
      "dtypes: float64(1), int32(3), object(9), uint8(11)\n",
      "memory usage: 1.9+ MB\n"
     ]
    }
   ],
   "source": [
    "df.info()"
   ]
  },
  {
   "cell_type": "markdown",
   "id": "5ae91de3",
   "metadata": {},
   "source": [
    "## Let's drop this column too"
   ]
  },
  {
   "cell_type": "code",
   "execution_count": 46,
   "id": "d6fa96a7",
   "metadata": {},
   "outputs": [],
   "source": [
    "df.drop('Date_of_Journey', axis = 1, inplace = True)"
   ]
  },
  {
   "cell_type": "markdown",
   "id": "f1276f8e",
   "metadata": {},
   "source": [
    "## Checking the source Column "
   ]
  },
  {
   "cell_type": "code",
   "execution_count": 47,
   "id": "3a860bd4",
   "metadata": {},
   "outputs": [
    {
     "data": {
      "text/plain": [
       "array(['Banglore', 'Kolkata', 'Delhi', 'Chennai', 'Mumbai'], dtype=object)"
      ]
     },
     "execution_count": 47,
     "metadata": {},
     "output_type": "execute_result"
    }
   ],
   "source": [
    "df['Source'].unique()"
   ]
  },
  {
   "cell_type": "markdown",
   "id": "aca07652",
   "metadata": {},
   "source": [
    "### Again repeat one hot encoding as we did with Airline column"
   ]
  },
  {
   "cell_type": "code",
   "execution_count": 50,
   "id": "e1c96757",
   "metadata": {},
   "outputs": [],
   "source": [
    "dummies = pd.get_dummies(df['Source'], drop_first = True)\n",
    "df = pd.concat([df,dummies], axis = 1)\n",
    "df.drop('Source', axis = 1, inplace = True)"
   ]
  },
  {
   "cell_type": "code",
   "execution_count": 51,
   "id": "c9f3a797",
   "metadata": {},
   "outputs": [
    {
     "name": "stdout",
     "output_type": "stream",
     "text": [
      "<class 'pandas.core.frame.DataFrame'>\n",
      "Int64Index: 13354 entries, 0 to 2670\n",
      "Data columns (total 26 columns):\n",
      " #   Column                             Non-Null Count  Dtype  \n",
      "---  ------                             --------------  -----  \n",
      " 0   Destination                        13354 non-null  object \n",
      " 1   Route                              13353 non-null  object \n",
      " 2   Dep_Time                           13354 non-null  object \n",
      " 3   Arrival_Time                       13354 non-null  object \n",
      " 4   Duration                           13354 non-null  object \n",
      " 5   Total_Stops                        13353 non-null  object \n",
      " 6   Additional_Info                    13354 non-null  object \n",
      " 7   Price                              10683 non-null  float64\n",
      " 8   Air India                          13354 non-null  uint8  \n",
      " 9   GoAir                              13354 non-null  uint8  \n",
      " 10  IndiGo                             13354 non-null  uint8  \n",
      " 11  Jet Airways                        13354 non-null  uint8  \n",
      " 12  Jet Airways Business               13354 non-null  uint8  \n",
      " 13  Multiple carriers                  13354 non-null  uint8  \n",
      " 14  Multiple carriers Premium economy  13354 non-null  uint8  \n",
      " 15  SpiceJet                           13354 non-null  uint8  \n",
      " 16  Trujet                             13354 non-null  uint8  \n",
      " 17  Vistara                            13354 non-null  uint8  \n",
      " 18  Vistara Premium economy            13354 non-null  uint8  \n",
      " 19  Date                               13354 non-null  int32  \n",
      " 20  Month                              13354 non-null  int32  \n",
      " 21  Year                               13354 non-null  int32  \n",
      " 22  Chennai                            13354 non-null  uint8  \n",
      " 23  Delhi                              13354 non-null  uint8  \n",
      " 24  Kolkata                            13354 non-null  uint8  \n",
      " 25  Mumbai                             13354 non-null  uint8  \n",
      "dtypes: float64(1), int32(3), object(7), uint8(15)\n",
      "memory usage: 1.8+ MB\n"
     ]
    }
   ],
   "source": [
    "df.info()"
   ]
  },
  {
   "cell_type": "markdown",
   "id": "099ff8ba",
   "metadata": {},
   "source": [
    "## Destination"
   ]
  },
  {
   "cell_type": "code",
   "execution_count": 52,
   "id": "8714ac94",
   "metadata": {},
   "outputs": [
    {
     "data": {
      "text/plain": [
       "array(['New Delhi', 'Banglore', 'Cochin', 'Kolkata', 'Delhi', 'Hyderabad'],\n",
       "      dtype=object)"
      ]
     },
     "execution_count": 52,
     "metadata": {},
     "output_type": "execute_result"
    }
   ],
   "source": [
    "df['Destination'].unique()"
   ]
  },
  {
   "cell_type": "code",
   "execution_count": 53,
   "id": "322b234a",
   "metadata": {},
   "outputs": [],
   "source": [
    "dummies = pd.get_dummies(df['Destination'], drop_first = True)\n",
    "df = pd.concat([df,dummies], axis = 1)\n",
    "df.drop('Destination', axis = 1, inplace = True)"
   ]
  },
  {
   "cell_type": "code",
   "execution_count": 54,
   "id": "cb5079d4",
   "metadata": {},
   "outputs": [
    {
     "name": "stdout",
     "output_type": "stream",
     "text": [
      "<class 'pandas.core.frame.DataFrame'>\n",
      "Int64Index: 13354 entries, 0 to 2670\n",
      "Data columns (total 30 columns):\n",
      " #   Column                             Non-Null Count  Dtype  \n",
      "---  ------                             --------------  -----  \n",
      " 0   Route                              13353 non-null  object \n",
      " 1   Dep_Time                           13354 non-null  object \n",
      " 2   Arrival_Time                       13354 non-null  object \n",
      " 3   Duration                           13354 non-null  object \n",
      " 4   Total_Stops                        13353 non-null  object \n",
      " 5   Additional_Info                    13354 non-null  object \n",
      " 6   Price                              10683 non-null  float64\n",
      " 7   Air India                          13354 non-null  uint8  \n",
      " 8   GoAir                              13354 non-null  uint8  \n",
      " 9   IndiGo                             13354 non-null  uint8  \n",
      " 10  Jet Airways                        13354 non-null  uint8  \n",
      " 11  Jet Airways Business               13354 non-null  uint8  \n",
      " 12  Multiple carriers                  13354 non-null  uint8  \n",
      " 13  Multiple carriers Premium economy  13354 non-null  uint8  \n",
      " 14  SpiceJet                           13354 non-null  uint8  \n",
      " 15  Trujet                             13354 non-null  uint8  \n",
      " 16  Vistara                            13354 non-null  uint8  \n",
      " 17  Vistara Premium economy            13354 non-null  uint8  \n",
      " 18  Date                               13354 non-null  int32  \n",
      " 19  Month                              13354 non-null  int32  \n",
      " 20  Year                               13354 non-null  int32  \n",
      " 21  Chennai                            13354 non-null  uint8  \n",
      " 22  Delhi                              13354 non-null  uint8  \n",
      " 23  Kolkata                            13354 non-null  uint8  \n",
      " 24  Mumbai                             13354 non-null  uint8  \n",
      " 25  Cochin                             13354 non-null  uint8  \n",
      " 26  Delhi                              13354 non-null  uint8  \n",
      " 27  Hyderabad                          13354 non-null  uint8  \n",
      " 28  Kolkata                            13354 non-null  uint8  \n",
      " 29  New Delhi                          13354 non-null  uint8  \n",
      "dtypes: float64(1), int32(3), object(6), uint8(20)\n",
      "memory usage: 1.7+ MB\n"
     ]
    }
   ],
   "source": [
    "df.info()"
   ]
  },
  {
   "cell_type": "markdown",
   "id": "a37edf15",
   "metadata": {},
   "source": [
    "# Route Column "
   ]
  },
  {
   "cell_type": "code",
   "execution_count": 55,
   "id": "253635e6",
   "metadata": {},
   "outputs": [
    {
     "data": {
      "text/plain": [
       "0                   BLR → DEL\n",
       "1       CCU → IXR → BBI → BLR\n",
       "2       DEL → LKO → BOM → COK\n",
       "3             CCU → NAG → BLR\n",
       "4             BLR → NAG → DEL\n",
       "                ...          \n",
       "2666          CCU → DEL → BLR\n",
       "2667                CCU → BLR\n",
       "2668          DEL → BOM → COK\n",
       "2669          DEL → BOM → COK\n",
       "2670          DEL → BOM → COK\n",
       "Name: Route, Length: 13354, dtype: object"
      ]
     },
     "execution_count": 55,
     "metadata": {},
     "output_type": "execute_result"
    }
   ],
   "source": [
    "df['Route']"
   ]
  },
  {
   "cell_type": "markdown",
   "id": "56964345",
   "metadata": {},
   "source": [
    "## As we have number of the stops so we don't need this info as much so we can drop it "
   ]
  },
  {
   "cell_type": "code",
   "execution_count": 56,
   "id": "e107a7ae",
   "metadata": {},
   "outputs": [],
   "source": [
    "df.drop('Route', axis = 1 , inplace = True)"
   ]
  },
  {
   "cell_type": "markdown",
   "id": "f683baa5",
   "metadata": {},
   "source": [
    "## Dep_Time column"
   ]
  },
  {
   "cell_type": "code",
   "execution_count": 57,
   "id": "735f44f0",
   "metadata": {},
   "outputs": [
    {
     "data": {
      "text/plain": [
       "0       22:20\n",
       "1       05:50\n",
       "2       09:25\n",
       "3       18:05\n",
       "4       16:50\n",
       "        ...  \n",
       "2666    20:30\n",
       "2667    14:20\n",
       "2668    21:50\n",
       "2669    04:00\n",
       "2670    04:55\n",
       "Name: Dep_Time, Length: 13354, dtype: object"
      ]
     },
     "execution_count": 57,
     "metadata": {},
     "output_type": "execute_result"
    }
   ],
   "source": [
    "df['Dep_Time']"
   ]
  },
  {
   "cell_type": "markdown",
   "id": "6e5f3518",
   "metadata": {},
   "source": [
    "### This is in the form of hour and min time "
   ]
  },
  {
   "cell_type": "code",
   "execution_count": 61,
   "id": "b09c5e94",
   "metadata": {},
   "outputs": [],
   "source": [
    "df['Dep_Time_Hour'] = df['Dep_Time'].str.split(':').str[0]\n",
    "df['Dep_Time_Min'] = df['Dep_Time'].str.split(':').str[1]"
   ]
  },
  {
   "cell_type": "code",
   "execution_count": 62,
   "id": "71b86489",
   "metadata": {},
   "outputs": [
    {
     "data": {
      "text/html": [
       "<div>\n",
       "<style scoped>\n",
       "    .dataframe tbody tr th:only-of-type {\n",
       "        vertical-align: middle;\n",
       "    }\n",
       "\n",
       "    .dataframe tbody tr th {\n",
       "        vertical-align: top;\n",
       "    }\n",
       "\n",
       "    .dataframe thead th {\n",
       "        text-align: right;\n",
       "    }\n",
       "</style>\n",
       "<table border=\"1\" class=\"dataframe\">\n",
       "  <thead>\n",
       "    <tr style=\"text-align: right;\">\n",
       "      <th></th>\n",
       "      <th>Dep_Time</th>\n",
       "      <th>Arrival_Time</th>\n",
       "      <th>Duration</th>\n",
       "      <th>Total_Stops</th>\n",
       "      <th>Additional_Info</th>\n",
       "      <th>Price</th>\n",
       "      <th>Air India</th>\n",
       "      <th>GoAir</th>\n",
       "      <th>IndiGo</th>\n",
       "      <th>Jet Airways</th>\n",
       "      <th>...</th>\n",
       "      <th>Delhi</th>\n",
       "      <th>Kolkata</th>\n",
       "      <th>Mumbai</th>\n",
       "      <th>Cochin</th>\n",
       "      <th>Delhi</th>\n",
       "      <th>Hyderabad</th>\n",
       "      <th>Kolkata</th>\n",
       "      <th>New Delhi</th>\n",
       "      <th>Dep_Time_Hour</th>\n",
       "      <th>Dep_Time_Min</th>\n",
       "    </tr>\n",
       "  </thead>\n",
       "  <tbody>\n",
       "    <tr>\n",
       "      <th>0</th>\n",
       "      <td>22:20</td>\n",
       "      <td>01:10 22 Mar</td>\n",
       "      <td>2h 50m</td>\n",
       "      <td>non-stop</td>\n",
       "      <td>No info</td>\n",
       "      <td>3897.0</td>\n",
       "      <td>0</td>\n",
       "      <td>0</td>\n",
       "      <td>1</td>\n",
       "      <td>0</td>\n",
       "      <td>...</td>\n",
       "      <td>0</td>\n",
       "      <td>0</td>\n",
       "      <td>0</td>\n",
       "      <td>0</td>\n",
       "      <td>0</td>\n",
       "      <td>0</td>\n",
       "      <td>0</td>\n",
       "      <td>1</td>\n",
       "      <td>22</td>\n",
       "      <td>20</td>\n",
       "    </tr>\n",
       "    <tr>\n",
       "      <th>1</th>\n",
       "      <td>05:50</td>\n",
       "      <td>13:15</td>\n",
       "      <td>7h 25m</td>\n",
       "      <td>2 stops</td>\n",
       "      <td>No info</td>\n",
       "      <td>7662.0</td>\n",
       "      <td>1</td>\n",
       "      <td>0</td>\n",
       "      <td>0</td>\n",
       "      <td>0</td>\n",
       "      <td>...</td>\n",
       "      <td>0</td>\n",
       "      <td>1</td>\n",
       "      <td>0</td>\n",
       "      <td>0</td>\n",
       "      <td>0</td>\n",
       "      <td>0</td>\n",
       "      <td>0</td>\n",
       "      <td>0</td>\n",
       "      <td>05</td>\n",
       "      <td>50</td>\n",
       "    </tr>\n",
       "    <tr>\n",
       "      <th>2</th>\n",
       "      <td>09:25</td>\n",
       "      <td>04:25 10 Jun</td>\n",
       "      <td>19h</td>\n",
       "      <td>2 stops</td>\n",
       "      <td>No info</td>\n",
       "      <td>13882.0</td>\n",
       "      <td>0</td>\n",
       "      <td>0</td>\n",
       "      <td>0</td>\n",
       "      <td>1</td>\n",
       "      <td>...</td>\n",
       "      <td>1</td>\n",
       "      <td>0</td>\n",
       "      <td>0</td>\n",
       "      <td>1</td>\n",
       "      <td>0</td>\n",
       "      <td>0</td>\n",
       "      <td>0</td>\n",
       "      <td>0</td>\n",
       "      <td>09</td>\n",
       "      <td>25</td>\n",
       "    </tr>\n",
       "    <tr>\n",
       "      <th>3</th>\n",
       "      <td>18:05</td>\n",
       "      <td>23:30</td>\n",
       "      <td>5h 25m</td>\n",
       "      <td>1 stop</td>\n",
       "      <td>No info</td>\n",
       "      <td>6218.0</td>\n",
       "      <td>0</td>\n",
       "      <td>0</td>\n",
       "      <td>1</td>\n",
       "      <td>0</td>\n",
       "      <td>...</td>\n",
       "      <td>0</td>\n",
       "      <td>1</td>\n",
       "      <td>0</td>\n",
       "      <td>0</td>\n",
       "      <td>0</td>\n",
       "      <td>0</td>\n",
       "      <td>0</td>\n",
       "      <td>0</td>\n",
       "      <td>18</td>\n",
       "      <td>05</td>\n",
       "    </tr>\n",
       "  </tbody>\n",
       "</table>\n",
       "<p>4 rows × 31 columns</p>\n",
       "</div>"
      ],
      "text/plain": [
       "  Dep_Time  Arrival_Time Duration Total_Stops Additional_Info    Price  \\\n",
       "0    22:20  01:10 22 Mar   2h 50m    non-stop         No info   3897.0   \n",
       "1    05:50         13:15   7h 25m     2 stops         No info   7662.0   \n",
       "2    09:25  04:25 10 Jun      19h     2 stops         No info  13882.0   \n",
       "3    18:05         23:30   5h 25m      1 stop         No info   6218.0   \n",
       "\n",
       "   Air India  GoAir  IndiGo  Jet Airways  ...  Delhi  Kolkata  Mumbai  Cochin  \\\n",
       "0          0      0       1            0  ...      0        0       0       0   \n",
       "1          1      0       0            0  ...      0        1       0       0   \n",
       "2          0      0       0            1  ...      1        0       0       1   \n",
       "3          0      0       1            0  ...      0        1       0       0   \n",
       "\n",
       "   Delhi  Hyderabad  Kolkata  New Delhi  Dep_Time_Hour  Dep_Time_Min  \n",
       "0      0          0        0          1             22            20  \n",
       "1      0          0        0          0             05            50  \n",
       "2      0          0        0          0             09            25  \n",
       "3      0          0        0          0             18            05  \n",
       "\n",
       "[4 rows x 31 columns]"
      ]
     },
     "execution_count": 62,
     "metadata": {},
     "output_type": "execute_result"
    }
   ],
   "source": [
    "df.head(4)"
   ]
  },
  {
   "cell_type": "code",
   "execution_count": 63,
   "id": "4d3f05f1",
   "metadata": {},
   "outputs": [],
   "source": [
    "df.drop('Dep_Time', axis = 1, inplace = True)"
   ]
  },
  {
   "cell_type": "code",
   "execution_count": 64,
   "id": "82b5170b",
   "metadata": {},
   "outputs": [
    {
     "name": "stdout",
     "output_type": "stream",
     "text": [
      "<class 'pandas.core.frame.DataFrame'>\n",
      "Int64Index: 13354 entries, 0 to 2670\n",
      "Data columns (total 30 columns):\n",
      " #   Column                             Non-Null Count  Dtype  \n",
      "---  ------                             --------------  -----  \n",
      " 0   Arrival_Time                       13354 non-null  object \n",
      " 1   Duration                           13354 non-null  object \n",
      " 2   Total_Stops                        13353 non-null  object \n",
      " 3   Additional_Info                    13354 non-null  object \n",
      " 4   Price                              10683 non-null  float64\n",
      " 5   Air India                          13354 non-null  uint8  \n",
      " 6   GoAir                              13354 non-null  uint8  \n",
      " 7   IndiGo                             13354 non-null  uint8  \n",
      " 8   Jet Airways                        13354 non-null  uint8  \n",
      " 9   Jet Airways Business               13354 non-null  uint8  \n",
      " 10  Multiple carriers                  13354 non-null  uint8  \n",
      " 11  Multiple carriers Premium economy  13354 non-null  uint8  \n",
      " 12  SpiceJet                           13354 non-null  uint8  \n",
      " 13  Trujet                             13354 non-null  uint8  \n",
      " 14  Vistara                            13354 non-null  uint8  \n",
      " 15  Vistara Premium economy            13354 non-null  uint8  \n",
      " 16  Date                               13354 non-null  int32  \n",
      " 17  Month                              13354 non-null  int32  \n",
      " 18  Year                               13354 non-null  int32  \n",
      " 19  Chennai                            13354 non-null  uint8  \n",
      " 20  Delhi                              13354 non-null  uint8  \n",
      " 21  Kolkata                            13354 non-null  uint8  \n",
      " 22  Mumbai                             13354 non-null  uint8  \n",
      " 23  Cochin                             13354 non-null  uint8  \n",
      " 24  Delhi                              13354 non-null  uint8  \n",
      " 25  Hyderabad                          13354 non-null  uint8  \n",
      " 26  Kolkata                            13354 non-null  uint8  \n",
      " 27  New Delhi                          13354 non-null  uint8  \n",
      " 28  Dep_Time_Hour                      13354 non-null  object \n",
      " 29  Dep_Time_Min                       13354 non-null  object \n",
      "dtypes: float64(1), int32(3), object(6), uint8(20)\n",
      "memory usage: 1.7+ MB\n"
     ]
    }
   ],
   "source": [
    "df.info()"
   ]
  },
  {
   "cell_type": "markdown",
   "id": "5c87fafd",
   "metadata": {},
   "source": [
    "## Arrival_Time "
   ]
  },
  {
   "cell_type": "code",
   "execution_count": 67,
   "id": "c09f6937",
   "metadata": {},
   "outputs": [
    {
     "data": {
      "text/plain": [
       "0       01:10 22 Mar\n",
       "1              13:15\n",
       "2       04:25 10 Jun\n",
       "3              23:30\n",
       "4              21:35\n",
       "            ...     \n",
       "2666    20:25 07 Jun\n",
       "2667           16:55\n",
       "2668    04:25 07 Mar\n",
       "2669           19:15\n",
       "2670           19:15\n",
       "Name: Arrival_Time, Length: 13354, dtype: object"
      ]
     },
     "execution_count": 67,
     "metadata": {},
     "output_type": "execute_result"
    }
   ],
   "source": [
    "df['Arrival_Time']"
   ]
  },
  {
   "cell_type": "code",
   "execution_count": 68,
   "id": "c7b04a2b",
   "metadata": {},
   "outputs": [],
   "source": [
    "df['Arrival_Time'] = df['Arrival_Time'].apply( lambda x : x.split(' ')[0])"
   ]
  },
  {
   "cell_type": "code",
   "execution_count": 69,
   "id": "32418b74",
   "metadata": {},
   "outputs": [
    {
     "data": {
      "text/plain": [
       "0       01:10\n",
       "1       13:15\n",
       "2       04:25\n",
       "3       23:30\n",
       "4       21:35\n",
       "        ...  \n",
       "2666    20:25\n",
       "2667    16:55\n",
       "2668    04:25\n",
       "2669    19:15\n",
       "2670    19:15\n",
       "Name: Arrival_Time, Length: 13354, dtype: object"
      ]
     },
     "execution_count": 69,
     "metadata": {},
     "output_type": "execute_result"
    }
   ],
   "source": [
    "df['Arrival_Time']"
   ]
  },
  {
   "cell_type": "code",
   "execution_count": 70,
   "id": "241cbae9",
   "metadata": {},
   "outputs": [],
   "source": [
    "df['Arrival_Time_hour'] = df['Arrival_Time'].str.split(':').str[0]\n",
    "df['Arrival_Time_min'] = df['Arrival_Time'].str.split(':').str[1]"
   ]
  },
  {
   "cell_type": "code",
   "execution_count": 71,
   "id": "a8aa3c45",
   "metadata": {},
   "outputs": [],
   "source": [
    "df.drop('Arrival_Time', axis = 1, inplace = True)"
   ]
  },
  {
   "cell_type": "code",
   "execution_count": 72,
   "id": "7c14f300",
   "metadata": {},
   "outputs": [
    {
     "name": "stdout",
     "output_type": "stream",
     "text": [
      "<class 'pandas.core.frame.DataFrame'>\n",
      "Int64Index: 13354 entries, 0 to 2670\n",
      "Data columns (total 31 columns):\n",
      " #   Column                             Non-Null Count  Dtype  \n",
      "---  ------                             --------------  -----  \n",
      " 0   Duration                           13354 non-null  object \n",
      " 1   Total_Stops                        13353 non-null  object \n",
      " 2   Additional_Info                    13354 non-null  object \n",
      " 3   Price                              10683 non-null  float64\n",
      " 4   Air India                          13354 non-null  uint8  \n",
      " 5   GoAir                              13354 non-null  uint8  \n",
      " 6   IndiGo                             13354 non-null  uint8  \n",
      " 7   Jet Airways                        13354 non-null  uint8  \n",
      " 8   Jet Airways Business               13354 non-null  uint8  \n",
      " 9   Multiple carriers                  13354 non-null  uint8  \n",
      " 10  Multiple carriers Premium economy  13354 non-null  uint8  \n",
      " 11  SpiceJet                           13354 non-null  uint8  \n",
      " 12  Trujet                             13354 non-null  uint8  \n",
      " 13  Vistara                            13354 non-null  uint8  \n",
      " 14  Vistara Premium economy            13354 non-null  uint8  \n",
      " 15  Date                               13354 non-null  int32  \n",
      " 16  Month                              13354 non-null  int32  \n",
      " 17  Year                               13354 non-null  int32  \n",
      " 18  Chennai                            13354 non-null  uint8  \n",
      " 19  Delhi                              13354 non-null  uint8  \n",
      " 20  Kolkata                            13354 non-null  uint8  \n",
      " 21  Mumbai                             13354 non-null  uint8  \n",
      " 22  Cochin                             13354 non-null  uint8  \n",
      " 23  Delhi                              13354 non-null  uint8  \n",
      " 24  Hyderabad                          13354 non-null  uint8  \n",
      " 25  Kolkata                            13354 non-null  uint8  \n",
      " 26  New Delhi                          13354 non-null  uint8  \n",
      " 27  Dep_Time_Hour                      13354 non-null  object \n",
      " 28  Dep_Time_Min                       13354 non-null  object \n",
      " 29  Arrival_Time_hour                  13354 non-null  object \n",
      " 30  Arrival_Time_min                   13354 non-null  object \n",
      "dtypes: float64(1), int32(3), object(7), uint8(20)\n",
      "memory usage: 1.8+ MB\n"
     ]
    }
   ],
   "source": [
    "df.info()"
   ]
  },
  {
   "cell_type": "code",
   "execution_count": 74,
   "id": "4d12b160",
   "metadata": {
    "scrolled": true
   },
   "outputs": [
    {
     "data": {
      "text/plain": [
       "0    2h 50m\n",
       "1    7h 25m\n",
       "2       19h\n",
       "3    5h 25m\n",
       "4    4h 45m\n",
       "Name: Duration, dtype: object"
      ]
     },
     "execution_count": 74,
     "metadata": {},
     "output_type": "execute_result"
    }
   ],
   "source": [
    "df['Duration'].head()"
   ]
  },
  {
   "cell_type": "code",
   "execution_count": 86,
   "id": "58cbbb11",
   "metadata": {},
   "outputs": [],
   "source": [
    "df['Duration_Hour'] = df['Duration'].str.split(' ').str[0].str.split('h').str[0]\n",
    "df['Duration_Min'] = df['Duration'].str.split(' ').str[1].str.split('m').str[0]"
   ]
  },
  {
   "cell_type": "code",
   "execution_count": 89,
   "id": "9ee463cc",
   "metadata": {
    "scrolled": true
   },
   "outputs": [
    {
     "data": {
      "text/plain": [
       "array(['2', '7', '19', '5', '4', '15', '21', '25', '13', '12', '26', '22',\n",
       "       '23', '20', '10', '6', '11', '8', '16', '3', '27', '1', '14', '9',\n",
       "       '18', '17', '24', '30', '28', '29', '37', '34', '38', '35', '36',\n",
       "       '47', '33', '32', '31', '42', '39', '5m', '41', '40'], dtype=object)"
      ]
     },
     "execution_count": 89,
     "metadata": {},
     "output_type": "execute_result"
    }
   ],
   "source": [
    "df['Duration_Hour'].unique()"
   ]
  },
  {
   "cell_type": "code",
   "execution_count": 92,
   "id": "270d9b1f",
   "metadata": {},
   "outputs": [
    {
     "data": {
      "text/html": [
       "<div>\n",
       "<style scoped>\n",
       "    .dataframe tbody tr th:only-of-type {\n",
       "        vertical-align: middle;\n",
       "    }\n",
       "\n",
       "    .dataframe tbody tr th {\n",
       "        vertical-align: top;\n",
       "    }\n",
       "\n",
       "    .dataframe thead th {\n",
       "        text-align: right;\n",
       "    }\n",
       "</style>\n",
       "<table border=\"1\" class=\"dataframe\">\n",
       "  <thead>\n",
       "    <tr style=\"text-align: right;\">\n",
       "      <th></th>\n",
       "      <th>Duration</th>\n",
       "      <th>Total_Stops</th>\n",
       "      <th>Additional_Info</th>\n",
       "      <th>Price</th>\n",
       "      <th>Air India</th>\n",
       "      <th>GoAir</th>\n",
       "      <th>IndiGo</th>\n",
       "      <th>Jet Airways</th>\n",
       "      <th>Jet Airways Business</th>\n",
       "      <th>Multiple carriers</th>\n",
       "      <th>...</th>\n",
       "      <th>Delhi</th>\n",
       "      <th>Hyderabad</th>\n",
       "      <th>Kolkata</th>\n",
       "      <th>New Delhi</th>\n",
       "      <th>Dep_Time_Hour</th>\n",
       "      <th>Dep_Time_Min</th>\n",
       "      <th>Arrival_Time_hour</th>\n",
       "      <th>Arrival_Time_min</th>\n",
       "      <th>Duration_Hour</th>\n",
       "      <th>Duration_Min</th>\n",
       "    </tr>\n",
       "  </thead>\n",
       "  <tbody>\n",
       "    <tr>\n",
       "      <th>6474</th>\n",
       "      <td>5m</td>\n",
       "      <td>2 stops</td>\n",
       "      <td>No info</td>\n",
       "      <td>17327.0</td>\n",
       "      <td>1</td>\n",
       "      <td>0</td>\n",
       "      <td>0</td>\n",
       "      <td>0</td>\n",
       "      <td>0</td>\n",
       "      <td>0</td>\n",
       "      <td>...</td>\n",
       "      <td>0</td>\n",
       "      <td>1</td>\n",
       "      <td>0</td>\n",
       "      <td>0</td>\n",
       "      <td>16</td>\n",
       "      <td>50</td>\n",
       "      <td>16</td>\n",
       "      <td>55</td>\n",
       "      <td>5m</td>\n",
       "      <td>NaN</td>\n",
       "    </tr>\n",
       "    <tr>\n",
       "      <th>2660</th>\n",
       "      <td>5m</td>\n",
       "      <td>2 stops</td>\n",
       "      <td>No info</td>\n",
       "      <td>NaN</td>\n",
       "      <td>1</td>\n",
       "      <td>0</td>\n",
       "      <td>0</td>\n",
       "      <td>0</td>\n",
       "      <td>0</td>\n",
       "      <td>0</td>\n",
       "      <td>...</td>\n",
       "      <td>0</td>\n",
       "      <td>1</td>\n",
       "      <td>0</td>\n",
       "      <td>0</td>\n",
       "      <td>16</td>\n",
       "      <td>50</td>\n",
       "      <td>16</td>\n",
       "      <td>55</td>\n",
       "      <td>5m</td>\n",
       "      <td>NaN</td>\n",
       "    </tr>\n",
       "  </tbody>\n",
       "</table>\n",
       "<p>2 rows × 33 columns</p>\n",
       "</div>"
      ],
      "text/plain": [
       "     Duration Total_Stops Additional_Info    Price  Air India  GoAir  IndiGo  \\\n",
       "6474       5m     2 stops         No info  17327.0          1      0       0   \n",
       "2660       5m     2 stops         No info      NaN          1      0       0   \n",
       "\n",
       "      Jet Airways  Jet Airways Business  Multiple carriers  ...  Delhi  \\\n",
       "6474            0                     0                  0  ...      0   \n",
       "2660            0                     0                  0  ...      0   \n",
       "\n",
       "      Hyderabad  Kolkata  New Delhi  Dep_Time_Hour  Dep_Time_Min  \\\n",
       "6474          1        0          0             16            50   \n",
       "2660          1        0          0             16            50   \n",
       "\n",
       "      Arrival_Time_hour  Arrival_Time_min  Duration_Hour  Duration_Min  \n",
       "6474                 16                55             5m           NaN  \n",
       "2660                 16                55             5m           NaN  \n",
       "\n",
       "[2 rows x 33 columns]"
      ]
     },
     "execution_count": 92,
     "metadata": {},
     "output_type": "execute_result"
    }
   ],
   "source": [
    "df[df['Duration_Hour'] == '5m']"
   ]
  },
  {
   "cell_type": "code",
   "execution_count": 93,
   "id": "39c26dbd",
   "metadata": {},
   "outputs": [],
   "source": [
    "df.drop(6474, axis = 0, inplace = True)\n",
    "df.drop(2660, axis = 0, inplace = True)"
   ]
  },
  {
   "cell_type": "code",
   "execution_count": 94,
   "id": "db873c48",
   "metadata": {},
   "outputs": [
    {
     "data": {
      "text/plain": [
       "array(['2', '7', '19', '5', '4', '15', '21', '25', '13', '12', '26', '22',\n",
       "       '23', '20', '10', '6', '11', '8', '16', '3', '27', '1', '14', '9',\n",
       "       '18', '17', '24', '30', '28', '29', '37', '34', '38', '35', '36',\n",
       "       '47', '33', '32', '31', '42', '39', '41', '40'], dtype=object)"
      ]
     },
     "execution_count": 94,
     "metadata": {},
     "output_type": "execute_result"
    }
   ],
   "source": [
    "df['Duration_Hour'].unique()"
   ]
  },
  {
   "cell_type": "markdown",
   "id": "798ecae6",
   "metadata": {},
   "source": [
    "### Here we got nan value "
   ]
  },
  {
   "cell_type": "code",
   "execution_count": 96,
   "id": "f3f35a2e",
   "metadata": {},
   "outputs": [
    {
     "data": {
      "text/plain": [
       "array(['50', '25', nan, '45', '30', '5', '15', '35', '10', '20', '55',\n",
       "       '40'], dtype=object)"
      ]
     },
     "execution_count": 96,
     "metadata": {},
     "output_type": "execute_result"
    }
   ],
   "source": [
    "df['Duration_Min'].unique()"
   ]
  },
  {
   "cell_type": "code",
   "execution_count": 101,
   "id": "abe2e264",
   "metadata": {},
   "outputs": [],
   "source": [
    "df['Duration_Min'] = df['Duration_Min'].fillna('0')"
   ]
  },
  {
   "cell_type": "code",
   "execution_count": 103,
   "id": "387a4142",
   "metadata": {},
   "outputs": [
    {
     "data": {
      "text/plain": [
       "0"
      ]
     },
     "execution_count": 103,
     "metadata": {},
     "output_type": "execute_result"
    }
   ],
   "source": [
    "df['Duration_Min'].isnull().sum()"
   ]
  },
  {
   "cell_type": "markdown",
   "id": "162a8dcc",
   "metadata": {},
   "source": [
    "## Let's Convert the type of these variables into int"
   ]
  },
  {
   "cell_type": "code",
   "execution_count": 104,
   "id": "00c07692",
   "metadata": {},
   "outputs": [],
   "source": [
    "df['Duration_Hour'] = df['Duration_Hour'].astype('int')\n",
    "df['Duration_Min'] = df['Duration_Min'].astype('int')"
   ]
  },
  {
   "cell_type": "markdown",
   "id": "b1fc4067",
   "metadata": {},
   "source": [
    "# Now let's combine them into the duration \n",
    "### the scale will be using is the minutes"
   ]
  },
  {
   "cell_type": "code",
   "execution_count": 107,
   "id": "7de5bf95",
   "metadata": {},
   "outputs": [],
   "source": [
    "df['Duration'] = df['Duration_Hour']*60 + df['Duration_Min']"
   ]
  },
  {
   "cell_type": "code",
   "execution_count": 109,
   "id": "7d2fadf3",
   "metadata": {},
   "outputs": [
    {
     "data": {
      "text/html": [
       "<div>\n",
       "<style scoped>\n",
       "    .dataframe tbody tr th:only-of-type {\n",
       "        vertical-align: middle;\n",
       "    }\n",
       "\n",
       "    .dataframe tbody tr th {\n",
       "        vertical-align: top;\n",
       "    }\n",
       "\n",
       "    .dataframe thead th {\n",
       "        text-align: right;\n",
       "    }\n",
       "</style>\n",
       "<table border=\"1\" class=\"dataframe\">\n",
       "  <thead>\n",
       "    <tr style=\"text-align: right;\">\n",
       "      <th></th>\n",
       "      <th>Duration</th>\n",
       "      <th>Total_Stops</th>\n",
       "      <th>Additional_Info</th>\n",
       "      <th>Price</th>\n",
       "      <th>Air India</th>\n",
       "      <th>GoAir</th>\n",
       "      <th>IndiGo</th>\n",
       "      <th>Jet Airways</th>\n",
       "      <th>Jet Airways Business</th>\n",
       "      <th>Multiple carriers</th>\n",
       "      <th>...</th>\n",
       "      <th>Delhi</th>\n",
       "      <th>Hyderabad</th>\n",
       "      <th>Kolkata</th>\n",
       "      <th>New Delhi</th>\n",
       "      <th>Dep_Time_Hour</th>\n",
       "      <th>Dep_Time_Min</th>\n",
       "      <th>Arrival_Time_hour</th>\n",
       "      <th>Arrival_Time_min</th>\n",
       "      <th>Duration_Hour</th>\n",
       "      <th>Duration_Min</th>\n",
       "    </tr>\n",
       "  </thead>\n",
       "  <tbody>\n",
       "    <tr>\n",
       "      <th>0</th>\n",
       "      <td>170</td>\n",
       "      <td>non-stop</td>\n",
       "      <td>No info</td>\n",
       "      <td>3897.0</td>\n",
       "      <td>0</td>\n",
       "      <td>0</td>\n",
       "      <td>1</td>\n",
       "      <td>0</td>\n",
       "      <td>0</td>\n",
       "      <td>0</td>\n",
       "      <td>...</td>\n",
       "      <td>0</td>\n",
       "      <td>0</td>\n",
       "      <td>0</td>\n",
       "      <td>1</td>\n",
       "      <td>22</td>\n",
       "      <td>20</td>\n",
       "      <td>01</td>\n",
       "      <td>10</td>\n",
       "      <td>2</td>\n",
       "      <td>50</td>\n",
       "    </tr>\n",
       "    <tr>\n",
       "      <th>1</th>\n",
       "      <td>445</td>\n",
       "      <td>2 stops</td>\n",
       "      <td>No info</td>\n",
       "      <td>7662.0</td>\n",
       "      <td>1</td>\n",
       "      <td>0</td>\n",
       "      <td>0</td>\n",
       "      <td>0</td>\n",
       "      <td>0</td>\n",
       "      <td>0</td>\n",
       "      <td>...</td>\n",
       "      <td>0</td>\n",
       "      <td>0</td>\n",
       "      <td>0</td>\n",
       "      <td>0</td>\n",
       "      <td>05</td>\n",
       "      <td>50</td>\n",
       "      <td>13</td>\n",
       "      <td>15</td>\n",
       "      <td>7</td>\n",
       "      <td>25</td>\n",
       "    </tr>\n",
       "    <tr>\n",
       "      <th>2</th>\n",
       "      <td>1140</td>\n",
       "      <td>2 stops</td>\n",
       "      <td>No info</td>\n",
       "      <td>13882.0</td>\n",
       "      <td>0</td>\n",
       "      <td>0</td>\n",
       "      <td>0</td>\n",
       "      <td>1</td>\n",
       "      <td>0</td>\n",
       "      <td>0</td>\n",
       "      <td>...</td>\n",
       "      <td>0</td>\n",
       "      <td>0</td>\n",
       "      <td>0</td>\n",
       "      <td>0</td>\n",
       "      <td>09</td>\n",
       "      <td>25</td>\n",
       "      <td>04</td>\n",
       "      <td>25</td>\n",
       "      <td>19</td>\n",
       "      <td>0</td>\n",
       "    </tr>\n",
       "    <tr>\n",
       "      <th>3</th>\n",
       "      <td>325</td>\n",
       "      <td>1 stop</td>\n",
       "      <td>No info</td>\n",
       "      <td>6218.0</td>\n",
       "      <td>0</td>\n",
       "      <td>0</td>\n",
       "      <td>1</td>\n",
       "      <td>0</td>\n",
       "      <td>0</td>\n",
       "      <td>0</td>\n",
       "      <td>...</td>\n",
       "      <td>0</td>\n",
       "      <td>0</td>\n",
       "      <td>0</td>\n",
       "      <td>0</td>\n",
       "      <td>18</td>\n",
       "      <td>05</td>\n",
       "      <td>23</td>\n",
       "      <td>30</td>\n",
       "      <td>5</td>\n",
       "      <td>25</td>\n",
       "    </tr>\n",
       "    <tr>\n",
       "      <th>4</th>\n",
       "      <td>285</td>\n",
       "      <td>1 stop</td>\n",
       "      <td>No info</td>\n",
       "      <td>13302.0</td>\n",
       "      <td>0</td>\n",
       "      <td>0</td>\n",
       "      <td>1</td>\n",
       "      <td>0</td>\n",
       "      <td>0</td>\n",
       "      <td>0</td>\n",
       "      <td>...</td>\n",
       "      <td>0</td>\n",
       "      <td>0</td>\n",
       "      <td>0</td>\n",
       "      <td>1</td>\n",
       "      <td>16</td>\n",
       "      <td>50</td>\n",
       "      <td>21</td>\n",
       "      <td>35</td>\n",
       "      <td>4</td>\n",
       "      <td>45</td>\n",
       "    </tr>\n",
       "  </tbody>\n",
       "</table>\n",
       "<p>5 rows × 33 columns</p>\n",
       "</div>"
      ],
      "text/plain": [
       "   Duration Total_Stops Additional_Info    Price  Air India  GoAir  IndiGo  \\\n",
       "0       170    non-stop         No info   3897.0          0      0       1   \n",
       "1       445     2 stops         No info   7662.0          1      0       0   \n",
       "2      1140     2 stops         No info  13882.0          0      0       0   \n",
       "3       325      1 stop         No info   6218.0          0      0       1   \n",
       "4       285      1 stop         No info  13302.0          0      0       1   \n",
       "\n",
       "   Jet Airways  Jet Airways Business  Multiple carriers  ...  Delhi  \\\n",
       "0            0                     0                  0  ...      0   \n",
       "1            0                     0                  0  ...      0   \n",
       "2            1                     0                  0  ...      0   \n",
       "3            0                     0                  0  ...      0   \n",
       "4            0                     0                  0  ...      0   \n",
       "\n",
       "   Hyderabad  Kolkata  New Delhi  Dep_Time_Hour  Dep_Time_Min  \\\n",
       "0          0        0          1             22            20   \n",
       "1          0        0          0             05            50   \n",
       "2          0        0          0             09            25   \n",
       "3          0        0          0             18            05   \n",
       "4          0        0          1             16            50   \n",
       "\n",
       "   Arrival_Time_hour  Arrival_Time_min  Duration_Hour  Duration_Min  \n",
       "0                 01                10              2            50  \n",
       "1                 13                15              7            25  \n",
       "2                 04                25             19             0  \n",
       "3                 23                30              5            25  \n",
       "4                 21                35              4            45  \n",
       "\n",
       "[5 rows x 33 columns]"
      ]
     },
     "execution_count": 109,
     "metadata": {},
     "output_type": "execute_result"
    }
   ],
   "source": [
    "df.head()"
   ]
  },
  {
   "cell_type": "markdown",
   "id": "2ea136c4",
   "metadata": {},
   "source": [
    "### Now we don't need duration hour and min so let's drop it "
   ]
  },
  {
   "cell_type": "code",
   "execution_count": 110,
   "id": "7c882f17",
   "metadata": {},
   "outputs": [],
   "source": [
    "df.drop(['Duration_Hour','Duration_Min'], axis = 1, inplace = True)"
   ]
  },
  {
   "cell_type": "markdown",
   "id": "835db1c0",
   "metadata": {},
   "source": [
    "## Total Stop Columns "
   ]
  },
  {
   "cell_type": "code",
   "execution_count": 115,
   "id": "65fcea37",
   "metadata": {},
   "outputs": [
    {
     "data": {
      "text/plain": [
       "array(['non-stop', '2 stops', '1 stop', '3 stops', nan, '4 stops'],\n",
       "      dtype=object)"
      ]
     },
     "execution_count": 115,
     "metadata": {},
     "output_type": "execute_result"
    }
   ],
   "source": [
    "df['Total_Stops'].unique()"
   ]
  },
  {
   "cell_type": "code",
   "execution_count": 119,
   "id": "cbb18a96",
   "metadata": {},
   "outputs": [],
   "source": [
    "df['Total_Stops'] = df['Total_Stops'].fillna('2')"
   ]
  },
  {
   "cell_type": "code",
   "execution_count": 120,
   "id": "a6f40da8",
   "metadata": {
    "scrolled": true
   },
   "outputs": [
    {
     "data": {
      "text/plain": [
       "0"
      ]
     },
     "execution_count": 120,
     "metadata": {},
     "output_type": "execute_result"
    }
   ],
   "source": [
    "df['Total_Stops'].isnull().sum()"
   ]
  },
  {
   "cell_type": "code",
   "execution_count": 122,
   "id": "b340b643",
   "metadata": {},
   "outputs": [],
   "source": [
    "df['Total_Stops'] = df['Total_Stops'].map({'non-stop':0,'1 stop':1,'2 stops':2,'3 stops':3,'4 stops':4, '2':2})"
   ]
  },
  {
   "cell_type": "code",
   "execution_count": 124,
   "id": "ea6059d6",
   "metadata": {},
   "outputs": [
    {
     "data": {
      "text/plain": [
       "0    0\n",
       "1    2\n",
       "2    2\n",
       "3    1\n",
       "4    1\n",
       "Name: Total_Stops, dtype: int64"
      ]
     },
     "execution_count": 124,
     "metadata": {},
     "output_type": "execute_result"
    }
   ],
   "source": [
    "df['Total_Stops'].head()"
   ]
  },
  {
   "cell_type": "markdown",
   "id": "842fffde",
   "metadata": {},
   "source": [
    "# Additional_Info"
   ]
  },
  {
   "cell_type": "code",
   "execution_count": 126,
   "id": "8d1ecb6f",
   "metadata": {
    "scrolled": true
   },
   "outputs": [
    {
     "data": {
      "text/plain": [
       "array(['No info', 'In-flight meal not included',\n",
       "       'No check-in baggage included', '1 Short layover', 'No Info',\n",
       "       '1 Long layover', 'Change airports', 'Business class',\n",
       "       'Red-eye flight', '2 Long layover'], dtype=object)"
      ]
     },
     "execution_count": 126,
     "metadata": {},
     "output_type": "execute_result"
    }
   ],
   "source": [
    "df['Additional_Info'].unique()"
   ]
  },
  {
   "cell_type": "code",
   "execution_count": 127,
   "id": "06a72400",
   "metadata": {},
   "outputs": [],
   "source": [
    "dummies = pd.get_dummies(df['Additional_Info'], drop_first = True)\n",
    "df = pd.concat([df,dummies], axis = 1)\n",
    "df.drop('Additional_Info', axis = 1, inplace = True)"
   ]
  },
  {
   "cell_type": "code",
   "execution_count": 128,
   "id": "48624e3c",
   "metadata": {},
   "outputs": [
    {
     "name": "stdout",
     "output_type": "stream",
     "text": [
      "<class 'pandas.core.frame.DataFrame'>\n",
      "Int64Index: 13351 entries, 0 to 2670\n",
      "Data columns (total 39 columns):\n",
      " #   Column                             Non-Null Count  Dtype  \n",
      "---  ------                             --------------  -----  \n",
      " 0   Duration                           13351 non-null  int32  \n",
      " 1   Total_Stops                        13351 non-null  int64  \n",
      " 2   Price                              10681 non-null  float64\n",
      " 3   Air India                          13351 non-null  uint8  \n",
      " 4   GoAir                              13351 non-null  uint8  \n",
      " 5   IndiGo                             13351 non-null  uint8  \n",
      " 6   Jet Airways                        13351 non-null  uint8  \n",
      " 7   Jet Airways Business               13351 non-null  uint8  \n",
      " 8   Multiple carriers                  13351 non-null  uint8  \n",
      " 9   Multiple carriers Premium economy  13351 non-null  uint8  \n",
      " 10  SpiceJet                           13351 non-null  uint8  \n",
      " 11  Trujet                             13351 non-null  uint8  \n",
      " 12  Vistara                            13351 non-null  uint8  \n",
      " 13  Vistara Premium economy            13351 non-null  uint8  \n",
      " 14  Date                               13351 non-null  int32  \n",
      " 15  Month                              13351 non-null  int32  \n",
      " 16  Year                               13351 non-null  int32  \n",
      " 17  Chennai                            13351 non-null  uint8  \n",
      " 18  Delhi                              13351 non-null  uint8  \n",
      " 19  Kolkata                            13351 non-null  uint8  \n",
      " 20  Mumbai                             13351 non-null  uint8  \n",
      " 21  Cochin                             13351 non-null  uint8  \n",
      " 22  Delhi                              13351 non-null  uint8  \n",
      " 23  Hyderabad                          13351 non-null  uint8  \n",
      " 24  Kolkata                            13351 non-null  uint8  \n",
      " 25  New Delhi                          13351 non-null  uint8  \n",
      " 26  Dep_Time_Hour                      13351 non-null  object \n",
      " 27  Dep_Time_Min                       13351 non-null  object \n",
      " 28  Arrival_Time_hour                  13351 non-null  object \n",
      " 29  Arrival_Time_min                   13351 non-null  object \n",
      " 30  1 Short layover                    13351 non-null  uint8  \n",
      " 31  2 Long layover                     13351 non-null  uint8  \n",
      " 32  Business class                     13351 non-null  uint8  \n",
      " 33  Change airports                    13351 non-null  uint8  \n",
      " 34  In-flight meal not included        13351 non-null  uint8  \n",
      " 35  No Info                            13351 non-null  uint8  \n",
      " 36  No check-in baggage included       13351 non-null  uint8  \n",
      " 37  No info                            13351 non-null  uint8  \n",
      " 38  Red-eye flight                     13351 non-null  uint8  \n",
      "dtypes: float64(1), int32(4), int64(1), object(4), uint8(29)\n",
      "memory usage: 1.3+ MB\n"
     ]
    }
   ],
   "source": [
    "df.info()"
   ]
  },
  {
   "cell_type": "code",
   "execution_count": 131,
   "id": "c0630241",
   "metadata": {},
   "outputs": [],
   "source": [
    "df['Dep_Time_Hour'] = df['Dep_Time_Hour'].astype('int')\n",
    "df['Dep_Time_Min'] = df['Dep_Time_Min'].astype('int')\n",
    "df['Arrival_Time_hour'] = df['Arrival_Time_hour'].astype('int')\n",
    "df['Arrival_Time_min'] = df['Arrival_Time_min'].astype('int')"
   ]
  },
  {
   "cell_type": "code",
   "execution_count": 132,
   "id": "638cf5f8",
   "metadata": {},
   "outputs": [
    {
     "name": "stdout",
     "output_type": "stream",
     "text": [
      "<class 'pandas.core.frame.DataFrame'>\n",
      "Int64Index: 13351 entries, 0 to 2670\n",
      "Data columns (total 39 columns):\n",
      " #   Column                             Non-Null Count  Dtype  \n",
      "---  ------                             --------------  -----  \n",
      " 0   Duration                           13351 non-null  int32  \n",
      " 1   Total_Stops                        13351 non-null  int64  \n",
      " 2   Price                              10681 non-null  float64\n",
      " 3   Air India                          13351 non-null  uint8  \n",
      " 4   GoAir                              13351 non-null  uint8  \n",
      " 5   IndiGo                             13351 non-null  uint8  \n",
      " 6   Jet Airways                        13351 non-null  uint8  \n",
      " 7   Jet Airways Business               13351 non-null  uint8  \n",
      " 8   Multiple carriers                  13351 non-null  uint8  \n",
      " 9   Multiple carriers Premium economy  13351 non-null  uint8  \n",
      " 10  SpiceJet                           13351 non-null  uint8  \n",
      " 11  Trujet                             13351 non-null  uint8  \n",
      " 12  Vistara                            13351 non-null  uint8  \n",
      " 13  Vistara Premium economy            13351 non-null  uint8  \n",
      " 14  Date                               13351 non-null  int32  \n",
      " 15  Month                              13351 non-null  int32  \n",
      " 16  Year                               13351 non-null  int32  \n",
      " 17  Chennai                            13351 non-null  uint8  \n",
      " 18  Delhi                              13351 non-null  uint8  \n",
      " 19  Kolkata                            13351 non-null  uint8  \n",
      " 20  Mumbai                             13351 non-null  uint8  \n",
      " 21  Cochin                             13351 non-null  uint8  \n",
      " 22  Delhi                              13351 non-null  uint8  \n",
      " 23  Hyderabad                          13351 non-null  uint8  \n",
      " 24  Kolkata                            13351 non-null  uint8  \n",
      " 25  New Delhi                          13351 non-null  uint8  \n",
      " 26  Dep_Time_Hour                      13351 non-null  int32  \n",
      " 27  Dep_Time_Min                       13351 non-null  int32  \n",
      " 28  Arrival_Time_hour                  13351 non-null  int32  \n",
      " 29  Arrival_Time_min                   13351 non-null  int32  \n",
      " 30  1 Short layover                    13351 non-null  uint8  \n",
      " 31  2 Long layover                     13351 non-null  uint8  \n",
      " 32  Business class                     13351 non-null  uint8  \n",
      " 33  Change airports                    13351 non-null  uint8  \n",
      " 34  In-flight meal not included        13351 non-null  uint8  \n",
      " 35  No Info                            13351 non-null  uint8  \n",
      " 36  No check-in baggage included       13351 non-null  uint8  \n",
      " 37  No info                            13351 non-null  uint8  \n",
      " 38  Red-eye flight                     13351 non-null  uint8  \n",
      "dtypes: float64(1), int32(8), int64(1), uint8(29)\n",
      "memory usage: 1.1 MB\n"
     ]
    }
   ],
   "source": [
    "df.info()"
   ]
  },
  {
   "cell_type": "markdown",
   "id": "78e45cce",
   "metadata": {},
   "source": [
    "## Change the type of the coloumns "
   ]
  },
  {
   "cell_type": "code",
   "execution_count": 153,
   "id": "ca9f7cda",
   "metadata": {},
   "outputs": [],
   "source": [
    "def convert_to_int(col):\n",
    "    if col.dtype == 'uint8':\n",
    "        return col.astype(int)\n",
    "    return col\n",
    "\n",
    "\n",
    "df = df.apply(convert_to_int)"
   ]
  },
  {
   "cell_type": "code",
   "execution_count": 154,
   "id": "97553af0",
   "metadata": {},
   "outputs": [
    {
     "name": "stdout",
     "output_type": "stream",
     "text": [
      "<class 'pandas.core.frame.DataFrame'>\n",
      "Int64Index: 13351 entries, 0 to 2670\n",
      "Data columns (total 39 columns):\n",
      " #   Column                             Non-Null Count  Dtype  \n",
      "---  ------                             --------------  -----  \n",
      " 0   Duration                           13351 non-null  int32  \n",
      " 1   Total_Stops                        13351 non-null  int64  \n",
      " 2   Price                              10681 non-null  float64\n",
      " 3   Air India                          13351 non-null  int32  \n",
      " 4   GoAir                              13351 non-null  int32  \n",
      " 5   IndiGo                             13351 non-null  int32  \n",
      " 6   Jet Airways                        13351 non-null  int32  \n",
      " 7   Jet Airways Business               13351 non-null  int32  \n",
      " 8   Multiple carriers                  13351 non-null  int32  \n",
      " 9   Multiple carriers Premium economy  13351 non-null  int32  \n",
      " 10  SpiceJet                           13351 non-null  int32  \n",
      " 11  Trujet                             13351 non-null  int32  \n",
      " 12  Vistara                            13351 non-null  int32  \n",
      " 13  Vistara Premium economy            13351 non-null  int32  \n",
      " 14  Date                               13351 non-null  int32  \n",
      " 15  Month                              13351 non-null  int32  \n",
      " 16  Year                               13351 non-null  int32  \n",
      " 17  Chennai                            13351 non-null  int32  \n",
      " 18  Delhi                              13351 non-null  int32  \n",
      " 19  Kolkata                            13351 non-null  int32  \n",
      " 20  Mumbai                             13351 non-null  int32  \n",
      " 21  Cochin                             13351 non-null  int32  \n",
      " 22  Delhi                              13351 non-null  int32  \n",
      " 23  Hyderabad                          13351 non-null  int32  \n",
      " 24  Kolkata                            13351 non-null  int32  \n",
      " 25  New Delhi                          13351 non-null  int32  \n",
      " 26  Dep_Time_Hour                      13351 non-null  int32  \n",
      " 27  Dep_Time_Min                       13351 non-null  int32  \n",
      " 28  Arrival_Time_hour                  13351 non-null  int32  \n",
      " 29  Arrival_Time_min                   13351 non-null  int32  \n",
      " 30  1 Short layover                    13351 non-null  int32  \n",
      " 31  2 Long layover                     13351 non-null  int32  \n",
      " 32  Business class                     13351 non-null  int32  \n",
      " 33  Change airports                    13351 non-null  int32  \n",
      " 34  In-flight meal not included        13351 non-null  int32  \n",
      " 35  No Info                            13351 non-null  int32  \n",
      " 36  No check-in baggage included       13351 non-null  int32  \n",
      " 37  No info                            13351 non-null  int32  \n",
      " 38  Red-eye flight                     13351 non-null  int32  \n",
      "dtypes: float64(1), int32(37), int64(1)\n",
      "memory usage: 2.2 MB\n"
     ]
    }
   ],
   "source": [
    "df.info()"
   ]
  },
  {
   "cell_type": "code",
   "execution_count": 149,
   "id": "2ee12bd2",
   "metadata": {},
   "outputs": [
    {
     "data": {
      "text/plain": [
       "'uint8'"
      ]
     },
     "execution_count": 149,
     "metadata": {},
     "output_type": "execute_result"
    }
   ],
   "source": [
    "str(df['No info'].dtype)"
   ]
  }
 ],
 "metadata": {
  "kernelspec": {
   "display_name": "Python 3 (ipykernel)",
   "language": "python",
   "name": "python3"
  },
  "language_info": {
   "codemirror_mode": {
    "name": "ipython",
    "version": 3
   },
   "file_extension": ".py",
   "mimetype": "text/x-python",
   "name": "python",
   "nbconvert_exporter": "python",
   "pygments_lexer": "ipython3",
   "version": "3.9.12"
  }
 },
 "nbformat": 4,
 "nbformat_minor": 5
}
